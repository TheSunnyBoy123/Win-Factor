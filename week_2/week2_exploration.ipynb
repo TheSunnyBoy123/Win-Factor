{
 "cells": [
  {
   "cell_type": "code",
   "execution_count": 1,
   "id": "e1664607-b472-41ce-a50e-2042035d364e",
   "metadata": {},
   "outputs": [],
   "source": [
    "import pandas as pd"
   ]
  },
  {
   "cell_type": "code",
   "execution_count": 2,
   "id": "e830914d-f30c-4183-af7b-955d6a3a4de9",
   "metadata": {},
   "outputs": [
    {
     "name": "stdout",
     "output_type": "stream",
     "text": [
      " Loaded data with shape: (416712, 58)\n"
     ]
    }
   ],
   "source": [
    "#Load the dataset\n",
    "df = pd.read_csv(\"mw_pw_profiles.csv\", low_memory=False)\n",
    "print(\" Loaded data with shape:\", df.shape)"
   ]
  },
  {
   "cell_type": "code",
   "execution_count": 3,
   "id": "b4af6ec2-a20c-417b-bc77-712dbcf9cc84",
   "metadata": {},
   "outputs": [
    {
     "name": "stdout",
     "output_type": "stream",
     "text": [
      "First 5 rows:\n"
     ]
    },
    {
     "data": {
      "text/html": [
       "<div>\n",
       "<style scoped>\n",
       "    .dataframe tbody tr th:only-of-type {\n",
       "        vertical-align: middle;\n",
       "    }\n",
       "\n",
       "    .dataframe tbody tr th {\n",
       "        vertical-align: top;\n",
       "    }\n",
       "\n",
       "    .dataframe thead th {\n",
       "        text-align: right;\n",
       "    }\n",
       "</style>\n",
       "<table border=\"1\" class=\"dataframe\">\n",
       "  <thead>\n",
       "    <tr style=\"text-align: right;\">\n",
       "      <th></th>\n",
       "      <th>player_id</th>\n",
       "      <th>match_id</th>\n",
       "      <th>gender</th>\n",
       "      <th>balls_per_over</th>\n",
       "      <th>start_date</th>\n",
       "      <th>series_name</th>\n",
       "      <th>match_type</th>\n",
       "      <th>name_x</th>\n",
       "      <th>runs_scored</th>\n",
       "      <th>player_out</th>\n",
       "      <th>...</th>\n",
       "      <th>key_pulse</th>\n",
       "      <th>key_pulse_2</th>\n",
       "      <th>full_name</th>\n",
       "      <th>batting_style</th>\n",
       "      <th>bowling_style</th>\n",
       "      <th>playing_role</th>\n",
       "      <th>teams</th>\n",
       "      <th>fantasy_score_batting</th>\n",
       "      <th>fantasy_score_bowling</th>\n",
       "      <th>fantasy_score_total</th>\n",
       "    </tr>\n",
       "  </thead>\n",
       "  <tbody>\n",
       "    <tr>\n",
       "      <th>0</th>\n",
       "      <td>00015688</td>\n",
       "      <td>1158348</td>\n",
       "      <td>female</td>\n",
       "      <td>6</td>\n",
       "      <td>2018-08-21</td>\n",
       "      <td>Botswana Cricket Association Women's T20I Series</td>\n",
       "      <td>T20</td>\n",
       "      <td>M King</td>\n",
       "      <td>10</td>\n",
       "      <td>1</td>\n",
       "      <td>...</td>\n",
       "      <td>NaN</td>\n",
       "      <td>NaN</td>\n",
       "      <td>NaN</td>\n",
       "      <td>NaN</td>\n",
       "      <td>NaN</td>\n",
       "      <td>NaN</td>\n",
       "      <td>[]</td>\n",
       "      <td>5</td>\n",
       "      <td>8</td>\n",
       "      <td>17</td>\n",
       "    </tr>\n",
       "    <tr>\n",
       "      <th>1</th>\n",
       "      <td>00015688</td>\n",
       "      <td>1182644</td>\n",
       "      <td>female</td>\n",
       "      <td>6</td>\n",
       "      <td>2019-05-05</td>\n",
       "      <td>ICC Women's T20 World Cup Africa Region Qualifier</td>\n",
       "      <td>T20</td>\n",
       "      <td>M King</td>\n",
       "      <td>8</td>\n",
       "      <td>1</td>\n",
       "      <td>...</td>\n",
       "      <td>NaN</td>\n",
       "      <td>NaN</td>\n",
       "      <td>NaN</td>\n",
       "      <td>NaN</td>\n",
       "      <td>NaN</td>\n",
       "      <td>NaN</td>\n",
       "      <td>[]</td>\n",
       "      <td>3</td>\n",
       "      <td>0</td>\n",
       "      <td>7</td>\n",
       "    </tr>\n",
       "    <tr>\n",
       "      <th>2</th>\n",
       "      <td>00015688</td>\n",
       "      <td>1275107</td>\n",
       "      <td>female</td>\n",
       "      <td>6</td>\n",
       "      <td>2021-09-09</td>\n",
       "      <td>ICC Women's T20 World Cup Africa Region Qualifier</td>\n",
       "      <td>T20</td>\n",
       "      <td>M King</td>\n",
       "      <td>1</td>\n",
       "      <td>0</td>\n",
       "      <td>...</td>\n",
       "      <td>NaN</td>\n",
       "      <td>NaN</td>\n",
       "      <td>NaN</td>\n",
       "      <td>NaN</td>\n",
       "      <td>NaN</td>\n",
       "      <td>NaN</td>\n",
       "      <td>[]</td>\n",
       "      <td>1</td>\n",
       "      <td>0</td>\n",
       "      <td>5</td>\n",
       "    </tr>\n",
       "    <tr>\n",
       "      <th>3</th>\n",
       "      <td>00015688</td>\n",
       "      <td>1275113</td>\n",
       "      <td>female</td>\n",
       "      <td>6</td>\n",
       "      <td>2021-09-15</td>\n",
       "      <td>ICC Women's T20 World Cup Africa Region Qualifier</td>\n",
       "      <td>T20</td>\n",
       "      <td>M King</td>\n",
       "      <td>0</td>\n",
       "      <td>0</td>\n",
       "      <td>...</td>\n",
       "      <td>NaN</td>\n",
       "      <td>NaN</td>\n",
       "      <td>NaN</td>\n",
       "      <td>NaN</td>\n",
       "      <td>NaN</td>\n",
       "      <td>NaN</td>\n",
       "      <td>[]</td>\n",
       "      <td>0</td>\n",
       "      <td>0</td>\n",
       "      <td>4</td>\n",
       "    </tr>\n",
       "    <tr>\n",
       "      <th>4</th>\n",
       "      <td>00015688</td>\n",
       "      <td>1275125</td>\n",
       "      <td>female</td>\n",
       "      <td>6</td>\n",
       "      <td>2021-09-14</td>\n",
       "      <td>ICC Women's T20 World Cup Africa Region Qualifier</td>\n",
       "      <td>T20</td>\n",
       "      <td>M King</td>\n",
       "      <td>1</td>\n",
       "      <td>1</td>\n",
       "      <td>...</td>\n",
       "      <td>NaN</td>\n",
       "      <td>NaN</td>\n",
       "      <td>NaN</td>\n",
       "      <td>NaN</td>\n",
       "      <td>NaN</td>\n",
       "      <td>NaN</td>\n",
       "      <td>[]</td>\n",
       "      <td>-5</td>\n",
       "      <td>0</td>\n",
       "      <td>-1</td>\n",
       "    </tr>\n",
       "  </tbody>\n",
       "</table>\n",
       "<p>5 rows × 58 columns</p>\n",
       "</div>"
      ],
      "text/plain": [
       "  player_id match_id  gender  balls_per_over  start_date  \\\n",
       "0  00015688  1158348  female               6  2018-08-21   \n",
       "1  00015688  1182644  female               6  2019-05-05   \n",
       "2  00015688  1275107  female               6  2021-09-09   \n",
       "3  00015688  1275113  female               6  2021-09-15   \n",
       "4  00015688  1275125  female               6  2021-09-14   \n",
       "\n",
       "                                         series_name match_type  name_x  \\\n",
       "0   Botswana Cricket Association Women's T20I Series        T20  M King   \n",
       "1  ICC Women's T20 World Cup Africa Region Qualifier        T20  M King   \n",
       "2  ICC Women's T20 World Cup Africa Region Qualifier        T20  M King   \n",
       "3  ICC Women's T20 World Cup Africa Region Qualifier        T20  M King   \n",
       "4  ICC Women's T20 World Cup Africa Region Qualifier        T20  M King   \n",
       "\n",
       "   runs_scored  player_out  ...  key_pulse  key_pulse_2  full_name  \\\n",
       "0           10           1  ...        NaN          NaN        NaN   \n",
       "1            8           1  ...        NaN          NaN        NaN   \n",
       "2            1           0  ...        NaN          NaN        NaN   \n",
       "3            0           0  ...        NaN          NaN        NaN   \n",
       "4            1           1  ...        NaN          NaN        NaN   \n",
       "\n",
       "   batting_style  bowling_style  playing_role  teams fantasy_score_batting  \\\n",
       "0            NaN            NaN           NaN     []                     5   \n",
       "1            NaN            NaN           NaN     []                     3   \n",
       "2            NaN            NaN           NaN     []                     1   \n",
       "3            NaN            NaN           NaN     []                     0   \n",
       "4            NaN            NaN           NaN     []                    -5   \n",
       "\n",
       "   fantasy_score_bowling  fantasy_score_total  \n",
       "0                      8                   17  \n",
       "1                      0                    7  \n",
       "2                      0                    5  \n",
       "3                      0                    4  \n",
       "4                      0                   -1  \n",
       "\n",
       "[5 rows x 58 columns]"
      ]
     },
     "metadata": {},
     "output_type": "display_data"
    },
    {
     "name": "stdout",
     "output_type": "stream",
     "text": [
      "\n",
      "Columns:\n",
      "['player_id', 'match_id', 'gender', 'balls_per_over', 'start_date', 'series_name', 'match_type', 'name_x', 'runs_scored', 'player_out', 'balls_faced', 'fours_scored', 'sixes_scored', 'catches_taken', 'run_out_direct', 'run_out_throw', 'stumpings_done', 'out_kind', 'dot_balls_as_batsman', 'order_seen', 'balls_bowled', 'runs_conceded', 'wickets_taken', 'bowled_done', 'lbw_done', 'maidens', 'dot_balls_as_bowler', 'player_team', 'opposition_team', 'name_y', 'unique_name', 'key_bcci', 'key_bcci_2', 'key_bigbash', 'key_cricbuzz', 'key_cricheroes', 'key_crichq', 'key_cricinfo', 'key_cricinfo_2', 'key_cricinfo_3', 'key_cricingif', 'key_cricketarchive', 'key_cricketarchive_2', 'key_cricketworld', 'key_nvplay', 'key_nvplay_2', 'key_opta', 'key_opta_2', 'key_pulse', 'key_pulse_2', 'full_name', 'batting_style', 'bowling_style', 'playing_role', 'teams', 'fantasy_score_batting', 'fantasy_score_bowling', 'fantasy_score_total']\n",
      "\n",
      " Data types summary:\n",
      "int64      22\n",
      "float64    19\n",
      "object     17\n",
      "Name: count, dtype: int64\n"
     ]
    }
   ],
   "source": [
    "#Preview data\n",
    "print(\"First 5 rows:\")\n",
    "display(df.head())\n",
    "\n",
    "print(\"\\nColumns:\")\n",
    "print(df.columns.tolist())\n",
    "\n",
    "print(\"\\n Data types summary:\")\n",
    "print(df.dtypes.value_counts())\n"
   ]
  },
  {
   "cell_type": "code",
   "execution_count": 4,
   "id": "e9ec70cb-d6f4-4052-bca7-eedf22783707",
   "metadata": {},
   "outputs": [
    {
     "name": "stdout",
     "output_type": "stream",
     "text": [
      "\n",
      "Missing values (top 10 by %):\n",
      "batting_style           100.000000\n",
      "full_name               100.000000\n",
      "playing_role            100.000000\n",
      "bowling_style           100.000000\n",
      "key_cricinfo_3           99.996160\n",
      "key_cricketarchive_2     99.988961\n",
      "key_opta_2               99.974803\n",
      "key_crichq               99.973603\n",
      "key_bcci_2               99.766265\n",
      "key_cricheroes           99.720910\n",
      "dtype: float64\n"
     ]
    }
   ],
   "source": [
    "#Missing values\n",
    "print(\"\\nMissing values (top 10 by %):\")\n",
    "missing_pct = df.isnull().mean().sort_values(ascending=False) * 100\n",
    "print(missing_pct[missing_pct > 0].head(10))\n"
   ]
  },
  {
   "cell_type": "code",
   "execution_count": 5,
   "id": "68c95807-1e65-4696-976c-b37a67a74e86",
   "metadata": {},
   "outputs": [
    {
     "name": "stdout",
     "output_type": "stream",
     "text": [
      "\n",
      " Match types:\n",
      "match_type\n",
      "T20     252665\n",
      "ODI      65192\n",
      "MDM      39693\n",
      "ODM      33115\n",
      "Test     19007\n",
      "IT20      7040\n",
      "Name: count, dtype: int64\n",
      "\n",
      " Gender counts:\n",
      "gender\n",
      "male      339376\n",
      "female     77336\n",
      "Name: count, dtype: int64\n"
     ]
    }
   ],
   "source": [
    "# Match type and gender breakdown\n",
    "print(\"\\n Match types:\")\n",
    "print(df['match_type'].value_counts())\n",
    "\n",
    "print(\"\\n Gender counts:\")\n",
    "print(df['gender'].value_counts())\n"
   ]
  },
  {
   "cell_type": "code",
   "execution_count": 6,
   "id": "6cdd959b-85a8-49d6-814b-9d8203326e56",
   "metadata": {},
   "outputs": [
    {
     "name": "stdout",
     "output_type": "stream",
     "text": [
      "\n",
      " Unique players: 11771\n",
      " Unique matches: 18896\n"
     ]
    }
   ],
   "source": [
    "#  Unique entities\n",
    "print(\"\\n Unique players:\", df['player_id'].nunique())\n",
    "print(\" Unique matches:\", df['match_id'].nunique())\n"
   ]
  },
  {
   "cell_type": "code",
   "execution_count": 7,
   "id": "02b19935-2fe3-4d1c-84cb-ea9f9b9f3e3d",
   "metadata": {},
   "outputs": [
    {
     "name": "stdout",
     "output_type": "stream",
     "text": [
      "\n",
      " Top 10 players by match count:\n",
      "player_id\n",
      "ba607b88    802\n",
      "4a8a2e3b    788\n",
      "740742ef    757\n",
      "a757b0d8    709\n",
      "87e562a9    706\n",
      "6b71e6cf    672\n",
      "db584dad    668\n",
      "d67d5f00    645\n",
      "c4487b84    644\n",
      "64c34cd0    639\n",
      "Name: match_id, dtype: int64\n"
     ]
    }
   ],
   "source": [
    "#  Who played the most matches\n",
    "print(\"\\n Top 10 players by match count:\")\n",
    "most_matches = df.groupby('player_id')['match_id'].nunique().sort_values(ascending=False)\n",
    "print(most_matches.head(10))\n"
   ]
  },
  {
   "cell_type": "code",
   "execution_count": 12,
   "id": "6d990c65-ad1e-4fa3-8df8-5d6de5b17a32",
   "metadata": {},
   "outputs": [
    {
     "name": "stdout",
     "output_type": "stream",
     "text": [
      "\n",
      " Players with most 30+ scores:\n",
      "player_id\n",
      "ba607b88    423\n",
      "6b71e6cf    348\n",
      "dcce6f09    330\n",
      "c4487b84    320\n",
      "740742ef    313\n",
      "db584dad    294\n",
      "4a8a2e3b    290\n",
      "a15618fe    271\n",
      "a343262c    266\n",
      "d027ba9f    265\n",
      "Name: thirty_plus, dtype: int64\n"
     ]
    }
   ],
   "source": [
    "df['thirty_plus'] = df['runs_scored'] >= 30\n",
    "top_30plus = df.groupby('player_id')['thirty_plus'].sum().sort_values(ascending=False)\n",
    "\n",
    "print(\"\\n Players with most 30+ scores:\")\n",
    "print(top_30plus.head(10))\n"
   ]
  },
  {
   "cell_type": "code",
   "execution_count": 13,
   "id": "bb5ca5c2-7a28-4bb6-9827-7e294e57416f",
   "metadata": {},
   "outputs": [
    {
     "name": "stdout",
     "output_type": "stream",
     "text": [
      "\n",
      " Highest average fantasy scores (Top 10):\n",
      "player_id\n",
      "b4a45b8c    232.000000\n",
      "65180edd    163.000000\n",
      "3e72a174    158.000000\n",
      "d0332cfb    155.000000\n",
      "dd016f9d    147.250000\n",
      "8629178f    140.000000\n",
      "bad1af65    138.333333\n",
      "a143d606    137.333333\n",
      "5d90eb77    136.500000\n",
      "402ea377    133.666667\n",
      "Name: fantasy_score_total, dtype: float64\n"
     ]
    }
   ],
   "source": [
    "#  Top fantasy performers\n",
    "avg_fantasy = df.groupby('player_id')['fantasy_score_total'].mean().sort_values(ascending=False)\n",
    "\n",
    "print(\"\\n Highest average fantasy scores (Top 10):\")\n",
    "print(avg_fantasy.head(10))\n"
   ]
  },
  {
   "cell_type": "code",
   "execution_count": 14,
   "id": "03c3a781-d9c2-48c8-9df9-6bffdd265702",
   "metadata": {},
   "outputs": [
    {
     "name": "stdout",
     "output_type": "stream",
     "text": [
      "\n",
      " Missing batting/bowling style (%):\n",
      "batting_style    100.0\n",
      "bowling_style    100.0\n",
      "dtype: float64\n"
     ]
    }
   ],
   "source": [
    "#  Batting & bowling style missing %\n",
    "print(\"\\n Missing batting/bowling style (%):\")\n",
    "style_missing = df[['batting_style', 'bowling_style']].isnull().mean() * 100\n",
    "print(style_missing)\n"
   ]
  },
  {
   "cell_type": "code",
   "execution_count": null,
   "id": "b45b9d09-f747-4d25-867a-ba634894ff4c",
   "metadata": {},
   "outputs": [],
   "source": []
  }
 ],
 "metadata": {
  "kernelspec": {
   "display_name": "Python 3 (ipykernel)",
   "language": "python",
   "name": "python3"
  },
  "language_info": {
   "codemirror_mode": {
    "name": "ipython",
    "version": 3
   },
   "file_extension": ".py",
   "mimetype": "text/x-python",
   "name": "python",
   "nbconvert_exporter": "python",
   "pygments_lexer": "ipython3",
   "version": "3.9.7"
  }
 },
 "nbformat": 4,
 "nbformat_minor": 5
}
