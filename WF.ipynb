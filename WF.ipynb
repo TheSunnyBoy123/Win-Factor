{
  "nbformat": 4,
  "nbformat_minor": 0,
  "metadata": {
    "colab": {
      "provenance": []
    },
    "kernelspec": {
      "name": "python3",
      "display_name": "Python 3"
    },
    "language_info": {
      "name": "python"
    }
  },
  "cells": [
    {
      "cell_type": "markdown",
      "source": [
        " # IMPORING LIBRARIES and DATASET"
      ],
      "metadata": {
        "id": "MHTkhhI4KaT-"
      }
    },
    {
      "cell_type": "code",
      "execution_count": 1,
      "metadata": {
        "id": "DxFCE3MvKCmx"
      },
      "outputs": [],
      "source": [
        "import pandas as pd\n",
        "import numpy as np\n",
        "import matplotlib.pyplot as plt\n",
        "import seaborn as sns\n",
        "\n",
        "from sklearn.preprocessing import LabelEncoder, StandardScaler\n",
        "from sklearn.model_selection import train_test_split\n",
        "from sklearn.linear_model import LinearRegression\n",
        "from sklearn.tree import DecisionTreeRegressor\n",
        "from sklearn.decomposition import PCA\n",
        "from sklearn.metrics import mean_absolute_error, mean_squared_error, r2_score\n",
        "\n",
        "import shap\n",
        "import xgboost as xgb\n",
        "import warnings\n",
        "warnings.filterwarnings('ignore')"
      ]
    },
    {
      "cell_type": "markdown",
      "source": [
        "Loading Dataset"
      ],
      "metadata": {
        "id": "SRzhCGKjKzQq"
      }
    },
    {
      "cell_type": "code",
      "source": [
        "df = pd.read_csv(\"https://media.githubusercontent.com/media/TheSunnyBoy123/Win-Factor/refs/heads/main/mw_pw_profiles.csv\")\n",
        "df.shape"
      ],
      "metadata": {
        "colab": {
          "base_uri": "https://localhost:8080/"
        },
        "id": "prMdCGr8Ktkj",
        "outputId": "febf9fa9-30f0-44d1-b034-ec7a6f153328"
      },
      "execution_count": 2,
      "outputs": [
        {
          "output_type": "execute_result",
          "data": {
            "text/plain": [
              "(416712, 58)"
            ]
          },
          "metadata": {},
          "execution_count": 2
        }
      ]
    },
    {
      "cell_type": "code",
      "source": [
        "df.columns"
      ],
      "metadata": {
        "colab": {
          "base_uri": "https://localhost:8080/"
        },
        "id": "O4yfek4CL330",
        "outputId": "c1882772-1e49-4a83-ef65-1976c323b84c"
      },
      "execution_count": 3,
      "outputs": [
        {
          "output_type": "execute_result",
          "data": {
            "text/plain": [
              "Index(['player_id', 'match_id', 'gender', 'balls_per_over', 'start_date',\n",
              "       'series_name', 'match_type', 'name_x', 'runs_scored', 'player_out',\n",
              "       'balls_faced', 'fours_scored', 'sixes_scored', 'catches_taken',\n",
              "       'run_out_direct', 'run_out_throw', 'stumpings_done', 'out_kind',\n",
              "       'dot_balls_as_batsman', 'order_seen', 'balls_bowled', 'runs_conceded',\n",
              "       'wickets_taken', 'bowled_done', 'lbw_done', 'maidens',\n",
              "       'dot_balls_as_bowler', 'player_team', 'opposition_team', 'name_y',\n",
              "       'unique_name', 'key_bcci', 'key_bcci_2', 'key_bigbash', 'key_cricbuzz',\n",
              "       'key_cricheroes', 'key_crichq', 'key_cricinfo', 'key_cricinfo_2',\n",
              "       'key_cricinfo_3', 'key_cricingif', 'key_cricketarchive',\n",
              "       'key_cricketarchive_2', 'key_cricketworld', 'key_nvplay',\n",
              "       'key_nvplay_2', 'key_opta', 'key_opta_2', 'key_pulse', 'key_pulse_2',\n",
              "       'full_name', 'batting_style', 'bowling_style', 'playing_role', 'teams',\n",
              "       'fantasy_score_batting', 'fantasy_score_bowling',\n",
              "       'fantasy_score_total'],\n",
              "      dtype='object')"
            ]
          },
          "metadata": {},
          "execution_count": 3
        }
      ]
    },
    {
      "cell_type": "markdown",
      "source": [
        "# Working on Data"
      ],
      "metadata": {
        "id": "OuGCuZOPMv69"
      }
    },
    {
      "cell_type": "code",
      "source": [
        "df['match_date'] = pd.to_datetime(df['start_date'])\n",
        "df.head()"
      ],
      "metadata": {
        "colab": {
          "base_uri": "https://localhost:8080/",
          "height": 602
        },
        "id": "UvgJcX-iLMcd",
        "outputId": "a566edb7-6f3a-4a8c-d46c-3237f326e509"
      },
      "execution_count": 4,
      "outputs": [
        {
          "output_type": "execute_result",
          "data": {
            "text/plain": [
              "  player_id match_id  gender  balls_per_over  start_date  \\\n",
              "0  00015688  1158348  female               6  2018-08-21   \n",
              "1  00015688  1182644  female               6  2019-05-05   \n",
              "2  00015688  1275107  female               6  2021-09-09   \n",
              "3  00015688  1275113  female               6  2021-09-15   \n",
              "4  00015688  1275125  female               6  2021-09-14   \n",
              "\n",
              "                                         series_name match_type  name_x  \\\n",
              "0   Botswana Cricket Association Women's T20I Series        T20  M King   \n",
              "1  ICC Women's T20 World Cup Africa Region Qualifier        T20  M King   \n",
              "2  ICC Women's T20 World Cup Africa Region Qualifier        T20  M King   \n",
              "3  ICC Women's T20 World Cup Africa Region Qualifier        T20  M King   \n",
              "4  ICC Women's T20 World Cup Africa Region Qualifier        T20  M King   \n",
              "\n",
              "   runs_scored  player_out  ...  key_pulse_2  full_name  batting_style  \\\n",
              "0           10           1  ...          NaN        NaN            NaN   \n",
              "1            8           1  ...          NaN        NaN            NaN   \n",
              "2            1           0  ...          NaN        NaN            NaN   \n",
              "3            0           0  ...          NaN        NaN            NaN   \n",
              "4            1           1  ...          NaN        NaN            NaN   \n",
              "\n",
              "   bowling_style  playing_role  teams  fantasy_score_batting  \\\n",
              "0            NaN           NaN     []                      5   \n",
              "1            NaN           NaN     []                      3   \n",
              "2            NaN           NaN     []                      1   \n",
              "3            NaN           NaN     []                      0   \n",
              "4            NaN           NaN     []                     -5   \n",
              "\n",
              "  fantasy_score_bowling  fantasy_score_total  match_date  \n",
              "0                     8                   17  2018-08-21  \n",
              "1                     0                    7  2019-05-05  \n",
              "2                     0                    5  2021-09-09  \n",
              "3                     0                    4  2021-09-15  \n",
              "4                     0                   -1  2021-09-14  \n",
              "\n",
              "[5 rows x 59 columns]"
            ],
            "text/html": [
              "\n",
              "  <div id=\"df-476ce99d-b3a6-4ef6-ab1a-e9e2a98a2cee\" class=\"colab-df-container\">\n",
              "    <div>\n",
              "<style scoped>\n",
              "    .dataframe tbody tr th:only-of-type {\n",
              "        vertical-align: middle;\n",
              "    }\n",
              "\n",
              "    .dataframe tbody tr th {\n",
              "        vertical-align: top;\n",
              "    }\n",
              "\n",
              "    .dataframe thead th {\n",
              "        text-align: right;\n",
              "    }\n",
              "</style>\n",
              "<table border=\"1\" class=\"dataframe\">\n",
              "  <thead>\n",
              "    <tr style=\"text-align: right;\">\n",
              "      <th></th>\n",
              "      <th>player_id</th>\n",
              "      <th>match_id</th>\n",
              "      <th>gender</th>\n",
              "      <th>balls_per_over</th>\n",
              "      <th>start_date</th>\n",
              "      <th>series_name</th>\n",
              "      <th>match_type</th>\n",
              "      <th>name_x</th>\n",
              "      <th>runs_scored</th>\n",
              "      <th>player_out</th>\n",
              "      <th>...</th>\n",
              "      <th>key_pulse_2</th>\n",
              "      <th>full_name</th>\n",
              "      <th>batting_style</th>\n",
              "      <th>bowling_style</th>\n",
              "      <th>playing_role</th>\n",
              "      <th>teams</th>\n",
              "      <th>fantasy_score_batting</th>\n",
              "      <th>fantasy_score_bowling</th>\n",
              "      <th>fantasy_score_total</th>\n",
              "      <th>match_date</th>\n",
              "    </tr>\n",
              "  </thead>\n",
              "  <tbody>\n",
              "    <tr>\n",
              "      <th>0</th>\n",
              "      <td>00015688</td>\n",
              "      <td>1158348</td>\n",
              "      <td>female</td>\n",
              "      <td>6</td>\n",
              "      <td>2018-08-21</td>\n",
              "      <td>Botswana Cricket Association Women's T20I Series</td>\n",
              "      <td>T20</td>\n",
              "      <td>M King</td>\n",
              "      <td>10</td>\n",
              "      <td>1</td>\n",
              "      <td>...</td>\n",
              "      <td>NaN</td>\n",
              "      <td>NaN</td>\n",
              "      <td>NaN</td>\n",
              "      <td>NaN</td>\n",
              "      <td>NaN</td>\n",
              "      <td>[]</td>\n",
              "      <td>5</td>\n",
              "      <td>8</td>\n",
              "      <td>17</td>\n",
              "      <td>2018-08-21</td>\n",
              "    </tr>\n",
              "    <tr>\n",
              "      <th>1</th>\n",
              "      <td>00015688</td>\n",
              "      <td>1182644</td>\n",
              "      <td>female</td>\n",
              "      <td>6</td>\n",
              "      <td>2019-05-05</td>\n",
              "      <td>ICC Women's T20 World Cup Africa Region Qualifier</td>\n",
              "      <td>T20</td>\n",
              "      <td>M King</td>\n",
              "      <td>8</td>\n",
              "      <td>1</td>\n",
              "      <td>...</td>\n",
              "      <td>NaN</td>\n",
              "      <td>NaN</td>\n",
              "      <td>NaN</td>\n",
              "      <td>NaN</td>\n",
              "      <td>NaN</td>\n",
              "      <td>[]</td>\n",
              "      <td>3</td>\n",
              "      <td>0</td>\n",
              "      <td>7</td>\n",
              "      <td>2019-05-05</td>\n",
              "    </tr>\n",
              "    <tr>\n",
              "      <th>2</th>\n",
              "      <td>00015688</td>\n",
              "      <td>1275107</td>\n",
              "      <td>female</td>\n",
              "      <td>6</td>\n",
              "      <td>2021-09-09</td>\n",
              "      <td>ICC Women's T20 World Cup Africa Region Qualifier</td>\n",
              "      <td>T20</td>\n",
              "      <td>M King</td>\n",
              "      <td>1</td>\n",
              "      <td>0</td>\n",
              "      <td>...</td>\n",
              "      <td>NaN</td>\n",
              "      <td>NaN</td>\n",
              "      <td>NaN</td>\n",
              "      <td>NaN</td>\n",
              "      <td>NaN</td>\n",
              "      <td>[]</td>\n",
              "      <td>1</td>\n",
              "      <td>0</td>\n",
              "      <td>5</td>\n",
              "      <td>2021-09-09</td>\n",
              "    </tr>\n",
              "    <tr>\n",
              "      <th>3</th>\n",
              "      <td>00015688</td>\n",
              "      <td>1275113</td>\n",
              "      <td>female</td>\n",
              "      <td>6</td>\n",
              "      <td>2021-09-15</td>\n",
              "      <td>ICC Women's T20 World Cup Africa Region Qualifier</td>\n",
              "      <td>T20</td>\n",
              "      <td>M King</td>\n",
              "      <td>0</td>\n",
              "      <td>0</td>\n",
              "      <td>...</td>\n",
              "      <td>NaN</td>\n",
              "      <td>NaN</td>\n",
              "      <td>NaN</td>\n",
              "      <td>NaN</td>\n",
              "      <td>NaN</td>\n",
              "      <td>[]</td>\n",
              "      <td>0</td>\n",
              "      <td>0</td>\n",
              "      <td>4</td>\n",
              "      <td>2021-09-15</td>\n",
              "    </tr>\n",
              "    <tr>\n",
              "      <th>4</th>\n",
              "      <td>00015688</td>\n",
              "      <td>1275125</td>\n",
              "      <td>female</td>\n",
              "      <td>6</td>\n",
              "      <td>2021-09-14</td>\n",
              "      <td>ICC Women's T20 World Cup Africa Region Qualifier</td>\n",
              "      <td>T20</td>\n",
              "      <td>M King</td>\n",
              "      <td>1</td>\n",
              "      <td>1</td>\n",
              "      <td>...</td>\n",
              "      <td>NaN</td>\n",
              "      <td>NaN</td>\n",
              "      <td>NaN</td>\n",
              "      <td>NaN</td>\n",
              "      <td>NaN</td>\n",
              "      <td>[]</td>\n",
              "      <td>-5</td>\n",
              "      <td>0</td>\n",
              "      <td>-1</td>\n",
              "      <td>2021-09-14</td>\n",
              "    </tr>\n",
              "  </tbody>\n",
              "</table>\n",
              "<p>5 rows × 59 columns</p>\n",
              "</div>\n",
              "    <div class=\"colab-df-buttons\">\n",
              "\n",
              "  <div class=\"colab-df-container\">\n",
              "    <button class=\"colab-df-convert\" onclick=\"convertToInteractive('df-476ce99d-b3a6-4ef6-ab1a-e9e2a98a2cee')\"\n",
              "            title=\"Convert this dataframe to an interactive table.\"\n",
              "            style=\"display:none;\">\n",
              "\n",
              "  <svg xmlns=\"http://www.w3.org/2000/svg\" height=\"24px\" viewBox=\"0 -960 960 960\">\n",
              "    <path d=\"M120-120v-720h720v720H120Zm60-500h600v-160H180v160Zm220 220h160v-160H400v160Zm0 220h160v-160H400v160ZM180-400h160v-160H180v160Zm440 0h160v-160H620v160ZM180-180h160v-160H180v160Zm440 0h160v-160H620v160Z\"/>\n",
              "  </svg>\n",
              "    </button>\n",
              "\n",
              "  <style>\n",
              "    .colab-df-container {\n",
              "      display:flex;\n",
              "      gap: 12px;\n",
              "    }\n",
              "\n",
              "    .colab-df-convert {\n",
              "      background-color: #E8F0FE;\n",
              "      border: none;\n",
              "      border-radius: 50%;\n",
              "      cursor: pointer;\n",
              "      display: none;\n",
              "      fill: #1967D2;\n",
              "      height: 32px;\n",
              "      padding: 0 0 0 0;\n",
              "      width: 32px;\n",
              "    }\n",
              "\n",
              "    .colab-df-convert:hover {\n",
              "      background-color: #E2EBFA;\n",
              "      box-shadow: 0px 1px 2px rgba(60, 64, 67, 0.3), 0px 1px 3px 1px rgba(60, 64, 67, 0.15);\n",
              "      fill: #174EA6;\n",
              "    }\n",
              "\n",
              "    .colab-df-buttons div {\n",
              "      margin-bottom: 4px;\n",
              "    }\n",
              "\n",
              "    [theme=dark] .colab-df-convert {\n",
              "      background-color: #3B4455;\n",
              "      fill: #D2E3FC;\n",
              "    }\n",
              "\n",
              "    [theme=dark] .colab-df-convert:hover {\n",
              "      background-color: #434B5C;\n",
              "      box-shadow: 0px 1px 3px 1px rgba(0, 0, 0, 0.15);\n",
              "      filter: drop-shadow(0px 1px 2px rgba(0, 0, 0, 0.3));\n",
              "      fill: #FFFFFF;\n",
              "    }\n",
              "  </style>\n",
              "\n",
              "    <script>\n",
              "      const buttonEl =\n",
              "        document.querySelector('#df-476ce99d-b3a6-4ef6-ab1a-e9e2a98a2cee button.colab-df-convert');\n",
              "      buttonEl.style.display =\n",
              "        google.colab.kernel.accessAllowed ? 'block' : 'none';\n",
              "\n",
              "      async function convertToInteractive(key) {\n",
              "        const element = document.querySelector('#df-476ce99d-b3a6-4ef6-ab1a-e9e2a98a2cee');\n",
              "        const dataTable =\n",
              "          await google.colab.kernel.invokeFunction('convertToInteractive',\n",
              "                                                    [key], {});\n",
              "        if (!dataTable) return;\n",
              "\n",
              "        const docLinkHtml = 'Like what you see? Visit the ' +\n",
              "          '<a target=\"_blank\" href=https://colab.research.google.com/notebooks/data_table.ipynb>data table notebook</a>'\n",
              "          + ' to learn more about interactive tables.';\n",
              "        element.innerHTML = '';\n",
              "        dataTable['output_type'] = 'display_data';\n",
              "        await google.colab.output.renderOutput(dataTable, element);\n",
              "        const docLink = document.createElement('div');\n",
              "        docLink.innerHTML = docLinkHtml;\n",
              "        element.appendChild(docLink);\n",
              "      }\n",
              "    </script>\n",
              "  </div>\n",
              "\n",
              "\n",
              "    <div id=\"df-4672d847-380b-4286-9ad8-be006c28d6c4\">\n",
              "      <button class=\"colab-df-quickchart\" onclick=\"quickchart('df-4672d847-380b-4286-9ad8-be006c28d6c4')\"\n",
              "                title=\"Suggest charts\"\n",
              "                style=\"display:none;\">\n",
              "\n",
              "<svg xmlns=\"http://www.w3.org/2000/svg\" height=\"24px\"viewBox=\"0 0 24 24\"\n",
              "     width=\"24px\">\n",
              "    <g>\n",
              "        <path d=\"M19 3H5c-1.1 0-2 .9-2 2v14c0 1.1.9 2 2 2h14c1.1 0 2-.9 2-2V5c0-1.1-.9-2-2-2zM9 17H7v-7h2v7zm4 0h-2V7h2v10zm4 0h-2v-4h2v4z\"/>\n",
              "    </g>\n",
              "</svg>\n",
              "      </button>\n",
              "\n",
              "<style>\n",
              "  .colab-df-quickchart {\n",
              "      --bg-color: #E8F0FE;\n",
              "      --fill-color: #1967D2;\n",
              "      --hover-bg-color: #E2EBFA;\n",
              "      --hover-fill-color: #174EA6;\n",
              "      --disabled-fill-color: #AAA;\n",
              "      --disabled-bg-color: #DDD;\n",
              "  }\n",
              "\n",
              "  [theme=dark] .colab-df-quickchart {\n",
              "      --bg-color: #3B4455;\n",
              "      --fill-color: #D2E3FC;\n",
              "      --hover-bg-color: #434B5C;\n",
              "      --hover-fill-color: #FFFFFF;\n",
              "      --disabled-bg-color: #3B4455;\n",
              "      --disabled-fill-color: #666;\n",
              "  }\n",
              "\n",
              "  .colab-df-quickchart {\n",
              "    background-color: var(--bg-color);\n",
              "    border: none;\n",
              "    border-radius: 50%;\n",
              "    cursor: pointer;\n",
              "    display: none;\n",
              "    fill: var(--fill-color);\n",
              "    height: 32px;\n",
              "    padding: 0;\n",
              "    width: 32px;\n",
              "  }\n",
              "\n",
              "  .colab-df-quickchart:hover {\n",
              "    background-color: var(--hover-bg-color);\n",
              "    box-shadow: 0 1px 2px rgba(60, 64, 67, 0.3), 0 1px 3px 1px rgba(60, 64, 67, 0.15);\n",
              "    fill: var(--button-hover-fill-color);\n",
              "  }\n",
              "\n",
              "  .colab-df-quickchart-complete:disabled,\n",
              "  .colab-df-quickchart-complete:disabled:hover {\n",
              "    background-color: var(--disabled-bg-color);\n",
              "    fill: var(--disabled-fill-color);\n",
              "    box-shadow: none;\n",
              "  }\n",
              "\n",
              "  .colab-df-spinner {\n",
              "    border: 2px solid var(--fill-color);\n",
              "    border-color: transparent;\n",
              "    border-bottom-color: var(--fill-color);\n",
              "    animation:\n",
              "      spin 1s steps(1) infinite;\n",
              "  }\n",
              "\n",
              "  @keyframes spin {\n",
              "    0% {\n",
              "      border-color: transparent;\n",
              "      border-bottom-color: var(--fill-color);\n",
              "      border-left-color: var(--fill-color);\n",
              "    }\n",
              "    20% {\n",
              "      border-color: transparent;\n",
              "      border-left-color: var(--fill-color);\n",
              "      border-top-color: var(--fill-color);\n",
              "    }\n",
              "    30% {\n",
              "      border-color: transparent;\n",
              "      border-left-color: var(--fill-color);\n",
              "      border-top-color: var(--fill-color);\n",
              "      border-right-color: var(--fill-color);\n",
              "    }\n",
              "    40% {\n",
              "      border-color: transparent;\n",
              "      border-right-color: var(--fill-color);\n",
              "      border-top-color: var(--fill-color);\n",
              "    }\n",
              "    60% {\n",
              "      border-color: transparent;\n",
              "      border-right-color: var(--fill-color);\n",
              "    }\n",
              "    80% {\n",
              "      border-color: transparent;\n",
              "      border-right-color: var(--fill-color);\n",
              "      border-bottom-color: var(--fill-color);\n",
              "    }\n",
              "    90% {\n",
              "      border-color: transparent;\n",
              "      border-bottom-color: var(--fill-color);\n",
              "    }\n",
              "  }\n",
              "</style>\n",
              "\n",
              "      <script>\n",
              "        async function quickchart(key) {\n",
              "          const quickchartButtonEl =\n",
              "            document.querySelector('#' + key + ' button');\n",
              "          quickchartButtonEl.disabled = true;  // To prevent multiple clicks.\n",
              "          quickchartButtonEl.classList.add('colab-df-spinner');\n",
              "          try {\n",
              "            const charts = await google.colab.kernel.invokeFunction(\n",
              "                'suggestCharts', [key], {});\n",
              "          } catch (error) {\n",
              "            console.error('Error during call to suggestCharts:', error);\n",
              "          }\n",
              "          quickchartButtonEl.classList.remove('colab-df-spinner');\n",
              "          quickchartButtonEl.classList.add('colab-df-quickchart-complete');\n",
              "        }\n",
              "        (() => {\n",
              "          let quickchartButtonEl =\n",
              "            document.querySelector('#df-4672d847-380b-4286-9ad8-be006c28d6c4 button');\n",
              "          quickchartButtonEl.style.display =\n",
              "            google.colab.kernel.accessAllowed ? 'block' : 'none';\n",
              "        })();\n",
              "      </script>\n",
              "    </div>\n",
              "\n",
              "    </div>\n",
              "  </div>\n"
            ],
            "application/vnd.google.colaboratory.intrinsic+json": {
              "type": "dataframe",
              "variable_name": "df"
            }
          },
          "metadata": {},
          "execution_count": 4
        }
      ]
    },
    {
      "cell_type": "code",
      "source": [
        "df.sort_values(by='match_date', inplace=True)\n",
        "df.tail()"
      ],
      "metadata": {
        "colab": {
          "base_uri": "https://localhost:8080/",
          "height": 568
        },
        "id": "DpklHiMvLxlp",
        "outputId": "bb238771-c0c9-4caa-d8a4-36ca88993fad"
      },
      "execution_count": 5,
      "outputs": [
        {
          "output_type": "execute_result",
          "data": {
            "text/plain": [
              "       player_id match_id  gender  balls_per_over  start_date  \\\n",
              "121900  4e38a3d6  1485778  female               6  2025-05-20   \n",
              "305516  bd36bc39  1485778  female               6  2025-05-20   \n",
              "401343  f6ddfe08  1485778  female               6  2025-05-20   \n",
              "258473  a2f46292  1473500    male               6  2025-05-20   \n",
              "238281  97e6e41a  1485778  female               6  2025-05-20   \n",
              "\n",
              "                                            series_name match_type  \\\n",
              "121900  ICC Women's T20 World Cup Asia Region Qualifier        T20   \n",
              "305516  ICC Women's T20 World Cup Asia Region Qualifier        T20   \n",
              "401343  ICC Women's T20 World Cup Asia Region Qualifier        T20   \n",
              "258473                            Indian Premier League        T20   \n",
              "238281  ICC Women's T20 World Cup Asia Region Qualifier        T20   \n",
              "\n",
              "                    name_x  runs_scored  player_out  ...  key_pulse_2  \\\n",
              "121900            R Poddar            4           1  ...          NaN   \n",
              "305516  S Chaturongrattana            0           0  ...          NaN   \n",
              "401343       C Sutthiruang            0           0  ...          NaN   \n",
              "258473            KK Ahmed            0           0  ...          NaN   \n",
              "238281            K Kunwar           24           0  ...          NaN   \n",
              "\n",
              "        full_name  batting_style  bowling_style  playing_role  teams  \\\n",
              "121900        NaN            NaN            NaN           NaN     []   \n",
              "305516        NaN            NaN            NaN           NaN     []   \n",
              "401343        NaN            NaN            NaN           NaN     []   \n",
              "258473        NaN            NaN            NaN           NaN     []   \n",
              "238281        NaN            NaN            NaN           NaN     []   \n",
              "\n",
              "        fantasy_score_batting fantasy_score_bowling  fantasy_score_total  \\\n",
              "121900                     -2                     0                    2   \n",
              "305516                      0                    16                   20   \n",
              "401343                      0                    12                   16   \n",
              "258473                      0                    -4                    0   \n",
              "238281                     25                     0                   29   \n",
              "\n",
              "        match_date  \n",
              "121900  2025-05-20  \n",
              "305516  2025-05-20  \n",
              "401343  2025-05-20  \n",
              "258473  2025-05-20  \n",
              "238281  2025-05-20  \n",
              "\n",
              "[5 rows x 59 columns]"
            ],
            "text/html": [
              "\n",
              "  <div id=\"df-275accb5-e264-4bd7-afa1-e4239c483599\" class=\"colab-df-container\">\n",
              "    <div>\n",
              "<style scoped>\n",
              "    .dataframe tbody tr th:only-of-type {\n",
              "        vertical-align: middle;\n",
              "    }\n",
              "\n",
              "    .dataframe tbody tr th {\n",
              "        vertical-align: top;\n",
              "    }\n",
              "\n",
              "    .dataframe thead th {\n",
              "        text-align: right;\n",
              "    }\n",
              "</style>\n",
              "<table border=\"1\" class=\"dataframe\">\n",
              "  <thead>\n",
              "    <tr style=\"text-align: right;\">\n",
              "      <th></th>\n",
              "      <th>player_id</th>\n",
              "      <th>match_id</th>\n",
              "      <th>gender</th>\n",
              "      <th>balls_per_over</th>\n",
              "      <th>start_date</th>\n",
              "      <th>series_name</th>\n",
              "      <th>match_type</th>\n",
              "      <th>name_x</th>\n",
              "      <th>runs_scored</th>\n",
              "      <th>player_out</th>\n",
              "      <th>...</th>\n",
              "      <th>key_pulse_2</th>\n",
              "      <th>full_name</th>\n",
              "      <th>batting_style</th>\n",
              "      <th>bowling_style</th>\n",
              "      <th>playing_role</th>\n",
              "      <th>teams</th>\n",
              "      <th>fantasy_score_batting</th>\n",
              "      <th>fantasy_score_bowling</th>\n",
              "      <th>fantasy_score_total</th>\n",
              "      <th>match_date</th>\n",
              "    </tr>\n",
              "  </thead>\n",
              "  <tbody>\n",
              "    <tr>\n",
              "      <th>121900</th>\n",
              "      <td>4e38a3d6</td>\n",
              "      <td>1485778</td>\n",
              "      <td>female</td>\n",
              "      <td>6</td>\n",
              "      <td>2025-05-20</td>\n",
              "      <td>ICC Women's T20 World Cup Asia Region Qualifier</td>\n",
              "      <td>T20</td>\n",
              "      <td>R Poddar</td>\n",
              "      <td>4</td>\n",
              "      <td>1</td>\n",
              "      <td>...</td>\n",
              "      <td>NaN</td>\n",
              "      <td>NaN</td>\n",
              "      <td>NaN</td>\n",
              "      <td>NaN</td>\n",
              "      <td>NaN</td>\n",
              "      <td>[]</td>\n",
              "      <td>-2</td>\n",
              "      <td>0</td>\n",
              "      <td>2</td>\n",
              "      <td>2025-05-20</td>\n",
              "    </tr>\n",
              "    <tr>\n",
              "      <th>305516</th>\n",
              "      <td>bd36bc39</td>\n",
              "      <td>1485778</td>\n",
              "      <td>female</td>\n",
              "      <td>6</td>\n",
              "      <td>2025-05-20</td>\n",
              "      <td>ICC Women's T20 World Cup Asia Region Qualifier</td>\n",
              "      <td>T20</td>\n",
              "      <td>S Chaturongrattana</td>\n",
              "      <td>0</td>\n",
              "      <td>0</td>\n",
              "      <td>...</td>\n",
              "      <td>NaN</td>\n",
              "      <td>NaN</td>\n",
              "      <td>NaN</td>\n",
              "      <td>NaN</td>\n",
              "      <td>NaN</td>\n",
              "      <td>[]</td>\n",
              "      <td>0</td>\n",
              "      <td>16</td>\n",
              "      <td>20</td>\n",
              "      <td>2025-05-20</td>\n",
              "    </tr>\n",
              "    <tr>\n",
              "      <th>401343</th>\n",
              "      <td>f6ddfe08</td>\n",
              "      <td>1485778</td>\n",
              "      <td>female</td>\n",
              "      <td>6</td>\n",
              "      <td>2025-05-20</td>\n",
              "      <td>ICC Women's T20 World Cup Asia Region Qualifier</td>\n",
              "      <td>T20</td>\n",
              "      <td>C Sutthiruang</td>\n",
              "      <td>0</td>\n",
              "      <td>0</td>\n",
              "      <td>...</td>\n",
              "      <td>NaN</td>\n",
              "      <td>NaN</td>\n",
              "      <td>NaN</td>\n",
              "      <td>NaN</td>\n",
              "      <td>NaN</td>\n",
              "      <td>[]</td>\n",
              "      <td>0</td>\n",
              "      <td>12</td>\n",
              "      <td>16</td>\n",
              "      <td>2025-05-20</td>\n",
              "    </tr>\n",
              "    <tr>\n",
              "      <th>258473</th>\n",
              "      <td>a2f46292</td>\n",
              "      <td>1473500</td>\n",
              "      <td>male</td>\n",
              "      <td>6</td>\n",
              "      <td>2025-05-20</td>\n",
              "      <td>Indian Premier League</td>\n",
              "      <td>T20</td>\n",
              "      <td>KK Ahmed</td>\n",
              "      <td>0</td>\n",
              "      <td>0</td>\n",
              "      <td>...</td>\n",
              "      <td>NaN</td>\n",
              "      <td>NaN</td>\n",
              "      <td>NaN</td>\n",
              "      <td>NaN</td>\n",
              "      <td>NaN</td>\n",
              "      <td>[]</td>\n",
              "      <td>0</td>\n",
              "      <td>-4</td>\n",
              "      <td>0</td>\n",
              "      <td>2025-05-20</td>\n",
              "    </tr>\n",
              "    <tr>\n",
              "      <th>238281</th>\n",
              "      <td>97e6e41a</td>\n",
              "      <td>1485778</td>\n",
              "      <td>female</td>\n",
              "      <td>6</td>\n",
              "      <td>2025-05-20</td>\n",
              "      <td>ICC Women's T20 World Cup Asia Region Qualifier</td>\n",
              "      <td>T20</td>\n",
              "      <td>K Kunwar</td>\n",
              "      <td>24</td>\n",
              "      <td>0</td>\n",
              "      <td>...</td>\n",
              "      <td>NaN</td>\n",
              "      <td>NaN</td>\n",
              "      <td>NaN</td>\n",
              "      <td>NaN</td>\n",
              "      <td>NaN</td>\n",
              "      <td>[]</td>\n",
              "      <td>25</td>\n",
              "      <td>0</td>\n",
              "      <td>29</td>\n",
              "      <td>2025-05-20</td>\n",
              "    </tr>\n",
              "  </tbody>\n",
              "</table>\n",
              "<p>5 rows × 59 columns</p>\n",
              "</div>\n",
              "    <div class=\"colab-df-buttons\">\n",
              "\n",
              "  <div class=\"colab-df-container\">\n",
              "    <button class=\"colab-df-convert\" onclick=\"convertToInteractive('df-275accb5-e264-4bd7-afa1-e4239c483599')\"\n",
              "            title=\"Convert this dataframe to an interactive table.\"\n",
              "            style=\"display:none;\">\n",
              "\n",
              "  <svg xmlns=\"http://www.w3.org/2000/svg\" height=\"24px\" viewBox=\"0 -960 960 960\">\n",
              "    <path d=\"M120-120v-720h720v720H120Zm60-500h600v-160H180v160Zm220 220h160v-160H400v160Zm0 220h160v-160H400v160ZM180-400h160v-160H180v160Zm440 0h160v-160H620v160ZM180-180h160v-160H180v160Zm440 0h160v-160H620v160Z\"/>\n",
              "  </svg>\n",
              "    </button>\n",
              "\n",
              "  <style>\n",
              "    .colab-df-container {\n",
              "      display:flex;\n",
              "      gap: 12px;\n",
              "    }\n",
              "\n",
              "    .colab-df-convert {\n",
              "      background-color: #E8F0FE;\n",
              "      border: none;\n",
              "      border-radius: 50%;\n",
              "      cursor: pointer;\n",
              "      display: none;\n",
              "      fill: #1967D2;\n",
              "      height: 32px;\n",
              "      padding: 0 0 0 0;\n",
              "      width: 32px;\n",
              "    }\n",
              "\n",
              "    .colab-df-convert:hover {\n",
              "      background-color: #E2EBFA;\n",
              "      box-shadow: 0px 1px 2px rgba(60, 64, 67, 0.3), 0px 1px 3px 1px rgba(60, 64, 67, 0.15);\n",
              "      fill: #174EA6;\n",
              "    }\n",
              "\n",
              "    .colab-df-buttons div {\n",
              "      margin-bottom: 4px;\n",
              "    }\n",
              "\n",
              "    [theme=dark] .colab-df-convert {\n",
              "      background-color: #3B4455;\n",
              "      fill: #D2E3FC;\n",
              "    }\n",
              "\n",
              "    [theme=dark] .colab-df-convert:hover {\n",
              "      background-color: #434B5C;\n",
              "      box-shadow: 0px 1px 3px 1px rgba(0, 0, 0, 0.15);\n",
              "      filter: drop-shadow(0px 1px 2px rgba(0, 0, 0, 0.3));\n",
              "      fill: #FFFFFF;\n",
              "    }\n",
              "  </style>\n",
              "\n",
              "    <script>\n",
              "      const buttonEl =\n",
              "        document.querySelector('#df-275accb5-e264-4bd7-afa1-e4239c483599 button.colab-df-convert');\n",
              "      buttonEl.style.display =\n",
              "        google.colab.kernel.accessAllowed ? 'block' : 'none';\n",
              "\n",
              "      async function convertToInteractive(key) {\n",
              "        const element = document.querySelector('#df-275accb5-e264-4bd7-afa1-e4239c483599');\n",
              "        const dataTable =\n",
              "          await google.colab.kernel.invokeFunction('convertToInteractive',\n",
              "                                                    [key], {});\n",
              "        if (!dataTable) return;\n",
              "\n",
              "        const docLinkHtml = 'Like what you see? Visit the ' +\n",
              "          '<a target=\"_blank\" href=https://colab.research.google.com/notebooks/data_table.ipynb>data table notebook</a>'\n",
              "          + ' to learn more about interactive tables.';\n",
              "        element.innerHTML = '';\n",
              "        dataTable['output_type'] = 'display_data';\n",
              "        await google.colab.output.renderOutput(dataTable, element);\n",
              "        const docLink = document.createElement('div');\n",
              "        docLink.innerHTML = docLinkHtml;\n",
              "        element.appendChild(docLink);\n",
              "      }\n",
              "    </script>\n",
              "  </div>\n",
              "\n",
              "\n",
              "    <div id=\"df-0fdac5bd-1182-4fa6-b80a-3eb536691a68\">\n",
              "      <button class=\"colab-df-quickchart\" onclick=\"quickchart('df-0fdac5bd-1182-4fa6-b80a-3eb536691a68')\"\n",
              "                title=\"Suggest charts\"\n",
              "                style=\"display:none;\">\n",
              "\n",
              "<svg xmlns=\"http://www.w3.org/2000/svg\" height=\"24px\"viewBox=\"0 0 24 24\"\n",
              "     width=\"24px\">\n",
              "    <g>\n",
              "        <path d=\"M19 3H5c-1.1 0-2 .9-2 2v14c0 1.1.9 2 2 2h14c1.1 0 2-.9 2-2V5c0-1.1-.9-2-2-2zM9 17H7v-7h2v7zm4 0h-2V7h2v10zm4 0h-2v-4h2v4z\"/>\n",
              "    </g>\n",
              "</svg>\n",
              "      </button>\n",
              "\n",
              "<style>\n",
              "  .colab-df-quickchart {\n",
              "      --bg-color: #E8F0FE;\n",
              "      --fill-color: #1967D2;\n",
              "      --hover-bg-color: #E2EBFA;\n",
              "      --hover-fill-color: #174EA6;\n",
              "      --disabled-fill-color: #AAA;\n",
              "      --disabled-bg-color: #DDD;\n",
              "  }\n",
              "\n",
              "  [theme=dark] .colab-df-quickchart {\n",
              "      --bg-color: #3B4455;\n",
              "      --fill-color: #D2E3FC;\n",
              "      --hover-bg-color: #434B5C;\n",
              "      --hover-fill-color: #FFFFFF;\n",
              "      --disabled-bg-color: #3B4455;\n",
              "      --disabled-fill-color: #666;\n",
              "  }\n",
              "\n",
              "  .colab-df-quickchart {\n",
              "    background-color: var(--bg-color);\n",
              "    border: none;\n",
              "    border-radius: 50%;\n",
              "    cursor: pointer;\n",
              "    display: none;\n",
              "    fill: var(--fill-color);\n",
              "    height: 32px;\n",
              "    padding: 0;\n",
              "    width: 32px;\n",
              "  }\n",
              "\n",
              "  .colab-df-quickchart:hover {\n",
              "    background-color: var(--hover-bg-color);\n",
              "    box-shadow: 0 1px 2px rgba(60, 64, 67, 0.3), 0 1px 3px 1px rgba(60, 64, 67, 0.15);\n",
              "    fill: var(--button-hover-fill-color);\n",
              "  }\n",
              "\n",
              "  .colab-df-quickchart-complete:disabled,\n",
              "  .colab-df-quickchart-complete:disabled:hover {\n",
              "    background-color: var(--disabled-bg-color);\n",
              "    fill: var(--disabled-fill-color);\n",
              "    box-shadow: none;\n",
              "  }\n",
              "\n",
              "  .colab-df-spinner {\n",
              "    border: 2px solid var(--fill-color);\n",
              "    border-color: transparent;\n",
              "    border-bottom-color: var(--fill-color);\n",
              "    animation:\n",
              "      spin 1s steps(1) infinite;\n",
              "  }\n",
              "\n",
              "  @keyframes spin {\n",
              "    0% {\n",
              "      border-color: transparent;\n",
              "      border-bottom-color: var(--fill-color);\n",
              "      border-left-color: var(--fill-color);\n",
              "    }\n",
              "    20% {\n",
              "      border-color: transparent;\n",
              "      border-left-color: var(--fill-color);\n",
              "      border-top-color: var(--fill-color);\n",
              "    }\n",
              "    30% {\n",
              "      border-color: transparent;\n",
              "      border-left-color: var(--fill-color);\n",
              "      border-top-color: var(--fill-color);\n",
              "      border-right-color: var(--fill-color);\n",
              "    }\n",
              "    40% {\n",
              "      border-color: transparent;\n",
              "      border-right-color: var(--fill-color);\n",
              "      border-top-color: var(--fill-color);\n",
              "    }\n",
              "    60% {\n",
              "      border-color: transparent;\n",
              "      border-right-color: var(--fill-color);\n",
              "    }\n",
              "    80% {\n",
              "      border-color: transparent;\n",
              "      border-right-color: var(--fill-color);\n",
              "      border-bottom-color: var(--fill-color);\n",
              "    }\n",
              "    90% {\n",
              "      border-color: transparent;\n",
              "      border-bottom-color: var(--fill-color);\n",
              "    }\n",
              "  }\n",
              "</style>\n",
              "\n",
              "      <script>\n",
              "        async function quickchart(key) {\n",
              "          const quickchartButtonEl =\n",
              "            document.querySelector('#' + key + ' button');\n",
              "          quickchartButtonEl.disabled = true;  // To prevent multiple clicks.\n",
              "          quickchartButtonEl.classList.add('colab-df-spinner');\n",
              "          try {\n",
              "            const charts = await google.colab.kernel.invokeFunction(\n",
              "                'suggestCharts', [key], {});\n",
              "          } catch (error) {\n",
              "            console.error('Error during call to suggestCharts:', error);\n",
              "          }\n",
              "          quickchartButtonEl.classList.remove('colab-df-spinner');\n",
              "          quickchartButtonEl.classList.add('colab-df-quickchart-complete');\n",
              "        }\n",
              "        (() => {\n",
              "          let quickchartButtonEl =\n",
              "            document.querySelector('#df-0fdac5bd-1182-4fa6-b80a-3eb536691a68 button');\n",
              "          quickchartButtonEl.style.display =\n",
              "            google.colab.kernel.accessAllowed ? 'block' : 'none';\n",
              "        })();\n",
              "      </script>\n",
              "    </div>\n",
              "\n",
              "    </div>\n",
              "  </div>\n"
            ],
            "application/vnd.google.colaboratory.intrinsic+json": {
              "type": "dataframe"
            }
          },
          "metadata": {},
          "execution_count": 5
        }
      ]
    },
    {
      "cell_type": "code",
      "source": [
        "df.info()"
      ],
      "metadata": {
        "colab": {
          "base_uri": "https://localhost:8080/"
        },
        "id": "uMe_EFUeMgZH",
        "outputId": "de81dba4-4fcc-4dc2-a348-d8b5dc3dcd4a"
      },
      "execution_count": 6,
      "outputs": [
        {
          "output_type": "stream",
          "name": "stdout",
          "text": [
            "<class 'pandas.core.frame.DataFrame'>\n",
            "Index: 416712 entries, 397451 to 238281\n",
            "Data columns (total 59 columns):\n",
            " #   Column                 Non-Null Count   Dtype         \n",
            "---  ------                 --------------   -----         \n",
            " 0   player_id              416712 non-null  object        \n",
            " 1   match_id               416712 non-null  object        \n",
            " 2   gender                 416712 non-null  object        \n",
            " 3   balls_per_over         416712 non-null  int64         \n",
            " 4   start_date             416712 non-null  object        \n",
            " 5   series_name            414752 non-null  object        \n",
            " 6   match_type             416712 non-null  object        \n",
            " 7   name_x                 416712 non-null  object        \n",
            " 8   runs_scored            416712 non-null  int64         \n",
            " 9   player_out             416712 non-null  int64         \n",
            " 10  balls_faced            416712 non-null  int64         \n",
            " 11  fours_scored           416712 non-null  int64         \n",
            " 12  sixes_scored           416712 non-null  int64         \n",
            " 13  catches_taken          416712 non-null  int64         \n",
            " 14  run_out_direct         416712 non-null  int64         \n",
            " 15  run_out_throw          416712 non-null  int64         \n",
            " 16  stumpings_done         416712 non-null  int64         \n",
            " 17  out_kind               416712 non-null  object        \n",
            " 18  dot_balls_as_batsman   416712 non-null  int64         \n",
            " 19  order_seen             416712 non-null  int64         \n",
            " 20  balls_bowled           416712 non-null  int64         \n",
            " 21  runs_conceded          416712 non-null  int64         \n",
            " 22  wickets_taken          416712 non-null  int64         \n",
            " 23  bowled_done            416712 non-null  int64         \n",
            " 24  lbw_done               416712 non-null  int64         \n",
            " 25  maidens                416712 non-null  int64         \n",
            " 26  dot_balls_as_bowler    416712 non-null  int64         \n",
            " 27  player_team            416712 non-null  object        \n",
            " 28  opposition_team        416712 non-null  object        \n",
            " 29  name_y                 416709 non-null  object        \n",
            " 30  unique_name            416709 non-null  object        \n",
            " 31  key_bcci               36929 non-null   object        \n",
            " 32  key_bcci_2             974 non-null     object        \n",
            " 33  key_bigbash            52360 non-null   float64       \n",
            " 34  key_cricbuzz           4045 non-null    float64       \n",
            " 35  key_cricheroes         1163 non-null    float64       \n",
            " 36  key_crichq             110 non-null     float64       \n",
            " 37  key_cricinfo           416597 non-null  float64       \n",
            " 38  key_cricinfo_2         1939 non-null    float64       \n",
            " 39  key_cricinfo_3         16 non-null      float64       \n",
            " 40  key_cricingif          29368 non-null   float64       \n",
            " 41  key_cricketarchive     269890 non-null  float64       \n",
            " 42  key_cricketarchive_2   46 non-null      float64       \n",
            " 43  key_cricketworld       6672 non-null    float64       \n",
            " 44  key_nvplay             78436 non-null   object        \n",
            " 45  key_nvplay_2           1913 non-null    object        \n",
            " 46  key_opta               6153 non-null    float64       \n",
            " 47  key_opta_2             105 non-null     float64       \n",
            " 48  key_pulse              257948 non-null  float64       \n",
            " 49  key_pulse_2            1942 non-null    float64       \n",
            " 50  full_name              0 non-null       float64       \n",
            " 51  batting_style          0 non-null       float64       \n",
            " 52  bowling_style          0 non-null       float64       \n",
            " 53  playing_role           0 non-null       float64       \n",
            " 54  teams                  416597 non-null  object        \n",
            " 55  fantasy_score_batting  416712 non-null  int64         \n",
            " 56  fantasy_score_bowling  416712 non-null  int64         \n",
            " 57  fantasy_score_total    416712 non-null  int64         \n",
            " 58  match_date             416712 non-null  datetime64[ns]\n",
            "dtypes: datetime64[ns](1), float64(19), int64(22), object(17)\n",
            "memory usage: 190.8+ MB\n"
          ]
        }
      ]
    },
    {
      "cell_type": "code",
      "source": [
        "df.isnull().sum()"
      ],
      "metadata": {
        "colab": {
          "base_uri": "https://localhost:8080/",
          "height": 1000
        },
        "id": "e3UONCOoM-1r",
        "outputId": "dbe25edc-6d81-4657-a1a8-07907b897e28"
      },
      "execution_count": 7,
      "outputs": [
        {
          "output_type": "execute_result",
          "data": {
            "text/plain": [
              "player_id                     0\n",
              "match_id                      0\n",
              "gender                        0\n",
              "balls_per_over                0\n",
              "start_date                    0\n",
              "series_name                1960\n",
              "match_type                    0\n",
              "name_x                        0\n",
              "runs_scored                   0\n",
              "player_out                    0\n",
              "balls_faced                   0\n",
              "fours_scored                  0\n",
              "sixes_scored                  0\n",
              "catches_taken                 0\n",
              "run_out_direct                0\n",
              "run_out_throw                 0\n",
              "stumpings_done                0\n",
              "out_kind                      0\n",
              "dot_balls_as_batsman          0\n",
              "order_seen                    0\n",
              "balls_bowled                  0\n",
              "runs_conceded                 0\n",
              "wickets_taken                 0\n",
              "bowled_done                   0\n",
              "lbw_done                      0\n",
              "maidens                       0\n",
              "dot_balls_as_bowler           0\n",
              "player_team                   0\n",
              "opposition_team               0\n",
              "name_y                        3\n",
              "unique_name                   3\n",
              "key_bcci                 379783\n",
              "key_bcci_2               415738\n",
              "key_bigbash              364352\n",
              "key_cricbuzz             412667\n",
              "key_cricheroes           415549\n",
              "key_crichq               416602\n",
              "key_cricinfo                115\n",
              "key_cricinfo_2           414773\n",
              "key_cricinfo_3           416696\n",
              "key_cricingif            387344\n",
              "key_cricketarchive       146822\n",
              "key_cricketarchive_2     416666\n",
              "key_cricketworld         410040\n",
              "key_nvplay               338276\n",
              "key_nvplay_2             414799\n",
              "key_opta                 410559\n",
              "key_opta_2               416607\n",
              "key_pulse                158764\n",
              "key_pulse_2              414770\n",
              "full_name                416712\n",
              "batting_style            416712\n",
              "bowling_style            416712\n",
              "playing_role             416712\n",
              "teams                       115\n",
              "fantasy_score_batting         0\n",
              "fantasy_score_bowling         0\n",
              "fantasy_score_total           0\n",
              "match_date                    0\n",
              "dtype: int64"
            ],
            "text/html": [
              "<div>\n",
              "<style scoped>\n",
              "    .dataframe tbody tr th:only-of-type {\n",
              "        vertical-align: middle;\n",
              "    }\n",
              "\n",
              "    .dataframe tbody tr th {\n",
              "        vertical-align: top;\n",
              "    }\n",
              "\n",
              "    .dataframe thead th {\n",
              "        text-align: right;\n",
              "    }\n",
              "</style>\n",
              "<table border=\"1\" class=\"dataframe\">\n",
              "  <thead>\n",
              "    <tr style=\"text-align: right;\">\n",
              "      <th></th>\n",
              "      <th>0</th>\n",
              "    </tr>\n",
              "  </thead>\n",
              "  <tbody>\n",
              "    <tr>\n",
              "      <th>player_id</th>\n",
              "      <td>0</td>\n",
              "    </tr>\n",
              "    <tr>\n",
              "      <th>match_id</th>\n",
              "      <td>0</td>\n",
              "    </tr>\n",
              "    <tr>\n",
              "      <th>gender</th>\n",
              "      <td>0</td>\n",
              "    </tr>\n",
              "    <tr>\n",
              "      <th>balls_per_over</th>\n",
              "      <td>0</td>\n",
              "    </tr>\n",
              "    <tr>\n",
              "      <th>start_date</th>\n",
              "      <td>0</td>\n",
              "    </tr>\n",
              "    <tr>\n",
              "      <th>series_name</th>\n",
              "      <td>1960</td>\n",
              "    </tr>\n",
              "    <tr>\n",
              "      <th>match_type</th>\n",
              "      <td>0</td>\n",
              "    </tr>\n",
              "    <tr>\n",
              "      <th>name_x</th>\n",
              "      <td>0</td>\n",
              "    </tr>\n",
              "    <tr>\n",
              "      <th>runs_scored</th>\n",
              "      <td>0</td>\n",
              "    </tr>\n",
              "    <tr>\n",
              "      <th>player_out</th>\n",
              "      <td>0</td>\n",
              "    </tr>\n",
              "    <tr>\n",
              "      <th>balls_faced</th>\n",
              "      <td>0</td>\n",
              "    </tr>\n",
              "    <tr>\n",
              "      <th>fours_scored</th>\n",
              "      <td>0</td>\n",
              "    </tr>\n",
              "    <tr>\n",
              "      <th>sixes_scored</th>\n",
              "      <td>0</td>\n",
              "    </tr>\n",
              "    <tr>\n",
              "      <th>catches_taken</th>\n",
              "      <td>0</td>\n",
              "    </tr>\n",
              "    <tr>\n",
              "      <th>run_out_direct</th>\n",
              "      <td>0</td>\n",
              "    </tr>\n",
              "    <tr>\n",
              "      <th>run_out_throw</th>\n",
              "      <td>0</td>\n",
              "    </tr>\n",
              "    <tr>\n",
              "      <th>stumpings_done</th>\n",
              "      <td>0</td>\n",
              "    </tr>\n",
              "    <tr>\n",
              "      <th>out_kind</th>\n",
              "      <td>0</td>\n",
              "    </tr>\n",
              "    <tr>\n",
              "      <th>dot_balls_as_batsman</th>\n",
              "      <td>0</td>\n",
              "    </tr>\n",
              "    <tr>\n",
              "      <th>order_seen</th>\n",
              "      <td>0</td>\n",
              "    </tr>\n",
              "    <tr>\n",
              "      <th>balls_bowled</th>\n",
              "      <td>0</td>\n",
              "    </tr>\n",
              "    <tr>\n",
              "      <th>runs_conceded</th>\n",
              "      <td>0</td>\n",
              "    </tr>\n",
              "    <tr>\n",
              "      <th>wickets_taken</th>\n",
              "      <td>0</td>\n",
              "    </tr>\n",
              "    <tr>\n",
              "      <th>bowled_done</th>\n",
              "      <td>0</td>\n",
              "    </tr>\n",
              "    <tr>\n",
              "      <th>lbw_done</th>\n",
              "      <td>0</td>\n",
              "    </tr>\n",
              "    <tr>\n",
              "      <th>maidens</th>\n",
              "      <td>0</td>\n",
              "    </tr>\n",
              "    <tr>\n",
              "      <th>dot_balls_as_bowler</th>\n",
              "      <td>0</td>\n",
              "    </tr>\n",
              "    <tr>\n",
              "      <th>player_team</th>\n",
              "      <td>0</td>\n",
              "    </tr>\n",
              "    <tr>\n",
              "      <th>opposition_team</th>\n",
              "      <td>0</td>\n",
              "    </tr>\n",
              "    <tr>\n",
              "      <th>name_y</th>\n",
              "      <td>3</td>\n",
              "    </tr>\n",
              "    <tr>\n",
              "      <th>unique_name</th>\n",
              "      <td>3</td>\n",
              "    </tr>\n",
              "    <tr>\n",
              "      <th>key_bcci</th>\n",
              "      <td>379783</td>\n",
              "    </tr>\n",
              "    <tr>\n",
              "      <th>key_bcci_2</th>\n",
              "      <td>415738</td>\n",
              "    </tr>\n",
              "    <tr>\n",
              "      <th>key_bigbash</th>\n",
              "      <td>364352</td>\n",
              "    </tr>\n",
              "    <tr>\n",
              "      <th>key_cricbuzz</th>\n",
              "      <td>412667</td>\n",
              "    </tr>\n",
              "    <tr>\n",
              "      <th>key_cricheroes</th>\n",
              "      <td>415549</td>\n",
              "    </tr>\n",
              "    <tr>\n",
              "      <th>key_crichq</th>\n",
              "      <td>416602</td>\n",
              "    </tr>\n",
              "    <tr>\n",
              "      <th>key_cricinfo</th>\n",
              "      <td>115</td>\n",
              "    </tr>\n",
              "    <tr>\n",
              "      <th>key_cricinfo_2</th>\n",
              "      <td>414773</td>\n",
              "    </tr>\n",
              "    <tr>\n",
              "      <th>key_cricinfo_3</th>\n",
              "      <td>416696</td>\n",
              "    </tr>\n",
              "    <tr>\n",
              "      <th>key_cricingif</th>\n",
              "      <td>387344</td>\n",
              "    </tr>\n",
              "    <tr>\n",
              "      <th>key_cricketarchive</th>\n",
              "      <td>146822</td>\n",
              "    </tr>\n",
              "    <tr>\n",
              "      <th>key_cricketarchive_2</th>\n",
              "      <td>416666</td>\n",
              "    </tr>\n",
              "    <tr>\n",
              "      <th>key_cricketworld</th>\n",
              "      <td>410040</td>\n",
              "    </tr>\n",
              "    <tr>\n",
              "      <th>key_nvplay</th>\n",
              "      <td>338276</td>\n",
              "    </tr>\n",
              "    <tr>\n",
              "      <th>key_nvplay_2</th>\n",
              "      <td>414799</td>\n",
              "    </tr>\n",
              "    <tr>\n",
              "      <th>key_opta</th>\n",
              "      <td>410559</td>\n",
              "    </tr>\n",
              "    <tr>\n",
              "      <th>key_opta_2</th>\n",
              "      <td>416607</td>\n",
              "    </tr>\n",
              "    <tr>\n",
              "      <th>key_pulse</th>\n",
              "      <td>158764</td>\n",
              "    </tr>\n",
              "    <tr>\n",
              "      <th>key_pulse_2</th>\n",
              "      <td>414770</td>\n",
              "    </tr>\n",
              "    <tr>\n",
              "      <th>full_name</th>\n",
              "      <td>416712</td>\n",
              "    </tr>\n",
              "    <tr>\n",
              "      <th>batting_style</th>\n",
              "      <td>416712</td>\n",
              "    </tr>\n",
              "    <tr>\n",
              "      <th>bowling_style</th>\n",
              "      <td>416712</td>\n",
              "    </tr>\n",
              "    <tr>\n",
              "      <th>playing_role</th>\n",
              "      <td>416712</td>\n",
              "    </tr>\n",
              "    <tr>\n",
              "      <th>teams</th>\n",
              "      <td>115</td>\n",
              "    </tr>\n",
              "    <tr>\n",
              "      <th>fantasy_score_batting</th>\n",
              "      <td>0</td>\n",
              "    </tr>\n",
              "    <tr>\n",
              "      <th>fantasy_score_bowling</th>\n",
              "      <td>0</td>\n",
              "    </tr>\n",
              "    <tr>\n",
              "      <th>fantasy_score_total</th>\n",
              "      <td>0</td>\n",
              "    </tr>\n",
              "    <tr>\n",
              "      <th>match_date</th>\n",
              "      <td>0</td>\n",
              "    </tr>\n",
              "  </tbody>\n",
              "</table>\n",
              "</div><br><label><b>dtype:</b> int64</label>"
            ]
          },
          "metadata": {},
          "execution_count": 7
        }
      ]
    },
    {
      "cell_type": "code",
      "source": [
        "data = df.copy()\n",
        "df= df.drop(columns=[\n",
        "    'gender','name_x', 'name_y','key_bcci', 'key_bcci_2', 'key_bigbash', 'key_cricbuzz', 'key_cricheroes','key_crichq', 'key_cricinfo', 'key_cricinfo_2', 'key_cricinfo_3','full_name',\n",
        "    'key_cricingif', 'key_cricketarchive', 'key_cricketarchive_2','key_cricketworld', 'key_nvplay', 'key_nvplay_2', 'key_opta', 'key_opta_2','key_pulse', 'key_pulse_2','batting_style', 'bowling_style','playing_role','teams'])"
      ],
      "metadata": {
        "id": "jcqTZpFiNNDi"
      },
      "execution_count": 8,
      "outputs": []
    },
    {
      "cell_type": "code",
      "source": [
        "df.info()"
      ],
      "metadata": {
        "colab": {
          "base_uri": "https://localhost:8080/"
        },
        "id": "E7IRNYlcQVvs",
        "outputId": "16adddbc-22f2-48cd-87b1-5c1ce790fb42"
      },
      "execution_count": 9,
      "outputs": [
        {
          "output_type": "stream",
          "name": "stdout",
          "text": [
            "<class 'pandas.core.frame.DataFrame'>\n",
            "Index: 416712 entries, 397451 to 238281\n",
            "Data columns (total 32 columns):\n",
            " #   Column                 Non-Null Count   Dtype         \n",
            "---  ------                 --------------   -----         \n",
            " 0   player_id              416712 non-null  object        \n",
            " 1   match_id               416712 non-null  object        \n",
            " 2   balls_per_over         416712 non-null  int64         \n",
            " 3   start_date             416712 non-null  object        \n",
            " 4   series_name            414752 non-null  object        \n",
            " 5   match_type             416712 non-null  object        \n",
            " 6   runs_scored            416712 non-null  int64         \n",
            " 7   player_out             416712 non-null  int64         \n",
            " 8   balls_faced            416712 non-null  int64         \n",
            " 9   fours_scored           416712 non-null  int64         \n",
            " 10  sixes_scored           416712 non-null  int64         \n",
            " 11  catches_taken          416712 non-null  int64         \n",
            " 12  run_out_direct         416712 non-null  int64         \n",
            " 13  run_out_throw          416712 non-null  int64         \n",
            " 14  stumpings_done         416712 non-null  int64         \n",
            " 15  out_kind               416712 non-null  object        \n",
            " 16  dot_balls_as_batsman   416712 non-null  int64         \n",
            " 17  order_seen             416712 non-null  int64         \n",
            " 18  balls_bowled           416712 non-null  int64         \n",
            " 19  runs_conceded          416712 non-null  int64         \n",
            " 20  wickets_taken          416712 non-null  int64         \n",
            " 21  bowled_done            416712 non-null  int64         \n",
            " 22  lbw_done               416712 non-null  int64         \n",
            " 23  maidens                416712 non-null  int64         \n",
            " 24  dot_balls_as_bowler    416712 non-null  int64         \n",
            " 25  player_team            416712 non-null  object        \n",
            " 26  opposition_team        416712 non-null  object        \n",
            " 27  unique_name            416709 non-null  object        \n",
            " 28  fantasy_score_batting  416712 non-null  int64         \n",
            " 29  fantasy_score_bowling  416712 non-null  int64         \n",
            " 30  fantasy_score_total    416712 non-null  int64         \n",
            " 31  match_date             416712 non-null  datetime64[ns]\n",
            "dtypes: datetime64[ns](1), int64(22), object(9)\n",
            "memory usage: 104.9+ MB\n"
          ]
        }
      ]
    },
    {
      "cell_type": "markdown",
      "source": [
        "# Feature Engineering"
      ],
      "metadata": {
        "id": "S-0_ykVWULva"
      }
    },
    {
      "cell_type": "code",
      "source": [
        "team_encoder = LabelEncoder()\n",
        "opp_encoder = LabelEncoder()\n",
        "matchtype_encoder = LabelEncoder()\n",
        "outkind_encoder = LabelEncoder()\n",
        "\n",
        "# Apply encodings\n",
        "df['player_team_enc'] = team_encoder.fit_transform(df['player_team'])\n",
        "df['opposition_team_enc'] = opp_encoder.fit_transform(df['opposition_team'])\n",
        "df['match_type_enc'] = matchtype_encoder.fit_transform(df['match_type'])\n",
        "df['out_kind_enc'] = outkind_encoder.fit_transform(df['out_kind'])"
      ],
      "metadata": {
        "id": "NoET2YqKR59V"
      },
      "execution_count": 10,
      "outputs": []
    },
    {
      "cell_type": "markdown",
      "source": [
        "Generating new features"
      ],
      "metadata": {
        "id": "myvLaQqnUUXj"
      }
    },
    {
      "cell_type": "code",
      "source": [
        "df['batting_strike_rate'] = df.apply(lambda row: (row['runs_scored'] / row['balls_faced']) * 100 if row['balls_faced'] > 0 else 0,axis=1)"
      ],
      "metadata": {
        "id": "FijaO5U4URjK"
      },
      "execution_count": 11,
      "outputs": []
    },
    {
      "cell_type": "code",
      "source": [
        "df['bowling_economy'] = df.apply(lambda row: (row['runs_conceded'] / (row['balls_bowled'] / 6)) if row['balls_bowled'] > 0 else 0,axis=1)"
      ],
      "metadata": {
        "id": "bez3AXU6U1E6"
      },
      "execution_count": 12,
      "outputs": []
    },
    {
      "cell_type": "code",
      "source": [
        "df['fielding_total'] = df['catches_taken'] + df['run_out_direct'] + df['run_out_throw'] + df['stumpings_done']"
      ],
      "metadata": {
        "id": "dJi3D-YSVCuX"
      },
      "execution_count": 13,
      "outputs": []
    },
    {
      "cell_type": "code",
      "source": [
        "df.fillna(0, inplace=True)"
      ],
      "metadata": {
        "id": "TATVaxxHVJSz"
      },
      "execution_count": 14,
      "outputs": []
    },
    {
      "cell_type": "markdown",
      "source": [
        "Finalizing the target and features"
      ],
      "metadata": {
        "id": "utkcVSrWVmOk"
      }
    },
    {
      "cell_type": "code",
      "source": [
        "drop_features = [\n",
        "    'player_id', 'match_id', 'start_date', 'match_date',\n",
        "    'series_name', 'match_type', 'player_team', 'opposition_team', 'out_kind',\n",
        "    'fantasy_score_batting', 'fantasy_score_bowling', 'unique_name'\n",
        "]\n",
        "\n",
        "x = df.drop(columns=drop_features + ['fantasy_score_total'])\n",
        "y = df['fantasy_score_total']"
      ],
      "metadata": {
        "id": "v0ymmQemVQpW"
      },
      "execution_count": 15,
      "outputs": []
    },
    {
      "cell_type": "markdown",
      "source": [
        "Splitting the data into training and testing"
      ],
      "metadata": {
        "id": "x0tH6K3jWse4"
      }
    },
    {
      "cell_type": "code",
      "source": [
        "train_df = df[df['match_date'].dt.year <= 2022]\n",
        "test_df = df[df['match_date'].dt.year > 2022]\n",
        "\n",
        "x_train = train_df[x.columns]\n",
        "y_train = train_df['fantasy_score_total']\n",
        "\n",
        "x_test = test_df[x.columns]\n",
        "y_test = test_df['fantasy_score_total']\n",
        "\n",
        "x_train.shape"
      ],
      "metadata": {
        "colab": {
          "base_uri": "https://localhost:8080/"
        },
        "id": "0g2DI_xYV5hP",
        "outputId": "c27fa390-916b-401e-dd71-6d28db03a8cd"
      },
      "execution_count": 16,
      "outputs": [
        {
          "output_type": "execute_result",
          "data": {
            "text/plain": [
              "(305151, 26)"
            ]
          },
          "metadata": {},
          "execution_count": 16
        }
      ]
    },
    {
      "cell_type": "markdown",
      "source": [
        "Visualizing the samples we have on timeline"
      ],
      "metadata": {
        "id": "DPGNTcPlXv4c"
      }
    },
    {
      "cell_type": "code",
      "source": [
        "df['year'] = df['match_date'].dt.year\n",
        "df['year'].value_counts().sort_index().plot(kind='bar', color='steelblue')\n",
        "plt.title(\"Sample count per year\")\n",
        "plt.xlabel(\"Year\")\n",
        "plt.ylabel(\"Samples\")\n",
        "plt.legend()\n",
        "plt.tight_layout()\n",
        "plt.show()"
      ],
      "metadata": {
        "colab": {
          "base_uri": "https://localhost:8080/",
          "height": 487
        },
        "id": "QyRDRWALXO0F",
        "outputId": "f8931bbf-276b-4ea0-9b1b-2f67ae4145f8"
      },
      "execution_count": 17,
      "outputs": [
        {
          "output_type": "display_data",
          "data": {
            "text/plain": [
              "<Figure size 640x480 with 1 Axes>"
            ],
            "image/png": "[encoded data removed]"
          },
          "metadata": {}
        }
      ]
    },
    {
      "cell_type": "markdown",
      "source": [
        "# MODELS IMPLEMENTATION"
      ],
      "metadata": {
        "id": "ZmWS4YhyX_zV"
      }
    },
    {
      "cell_type": "markdown",
      "source": [
        "## LINEAR REGRESSION"
      ],
      "metadata": {
        "id": "kqQkhlvAYKPu"
      }
    },
    {
      "cell_type": "code",
      "source": [
        "lr_model = LinearRegression()\n",
        "lr_model.fit(x_train, y_train)\n",
        "\n",
        "lr_predict = lr_model.predict(x_test)\n",
        "\n",
        "mae_lr = mean_absolute_error(y_test, lr_predict)\n",
        "mse_lr = mean_squared_error(y_test, lr_predict)\n",
        "r2_lr = r2_score(y_test, lr_predict)\n",
        "\n",
        "print(\"Mean Absolute Error:\", mae_lr)\n",
        "print(\"Mean Squared Error:\", mse_lr)\n",
        "print(\"R-squared:\", r2_lr)"
      ],
      "metadata": {
        "colab": {
          "base_uri": "https://localhost:8080/"
        },
        "id": "FEkzI6lDYHJg",
        "outputId": "a6a0b878-d076-4e78-a144-9386905619b1"
      },
      "execution_count": 18,
      "outputs": [
        {
          "output_type": "stream",
          "name": "stdout",
          "text": [
            "Mean Absolute Error: 3.731443882970503\n",
            "Mean Squared Error: 35.441853069847184\n",
            "R-squared: 0.9795310090940997\n"
          ]
        }
      ]
    },
    {
      "cell_type": "markdown",
      "source": [
        "## DECISION TREE"
      ],
      "metadata": {
        "id": "JC06eaYWZasQ"
      }
    },
    {
      "cell_type": "code",
      "source": [
        "dt_model = DecisionTreeRegressor(max_depth=10, random_state=42)\n",
        "dt_model.fit(x_train, y_train)\n",
        "\n",
        "dt_predict = dt_model.predict(x_test)\n",
        "\n",
        "mae_dt = mean_absolute_error(y_test, dt_predict)\n",
        "mse_dt = mean_squared_error(y_test, dt_predict)\n",
        "r2_dt = r2_score(y_test, dt_predict)\n",
        "\n",
        "print(\"Mean Absolute Error:\", mae_dt)\n",
        "print(\"Mean Squared Error:\", mse_dt)\n",
        "print(\"R-squared:\", r2_dt)"
      ],
      "metadata": {
        "colab": {
          "base_uri": "https://localhost:8080/"
        },
        "id": "oW7gOiqaYuVw",
        "outputId": "44fac3d7-8bd1-421b-cd56-fbceee53720b"
      },
      "execution_count": 23,
      "outputs": [
        {
          "output_type": "stream",
          "name": "stdout",
          "text": [
            "Mean Absolute Error: 3.243073131062182\n",
            "Mean Squared Error: 24.874992994264485\n",
            "R-squared: 0.9856337645669798\n"
          ]
        }
      ]
    },
    {
      "cell_type": "markdown",
      "source": [
        "## XGBOOST"
      ],
      "metadata": {
        "id": "nIvflvEPaEP6"
      }
    },
    {
      "cell_type": "code",
      "source": [
        "xgb_model = xgb.XGBRegressor(n_estimators=100, max_depth=8, learning_rate=0.1, random_state=42)\n",
        "xgb_model.fit(x_train, y_train)\n",
        "xgb_predict = xgb_model.predict(x_test)\n",
        "\n",
        "mae_xgb = mean_absolute_error(y_test, xgb_predict)\n",
        "mse_xgb = mean_squared_error(y_test, xgb_predict)\n",
        "r2_xgb = r2_score(y_test, xgb_predict)\n",
        "\n",
        "print(\"Mean Absolute Error:\", mae_xgb)\n",
        "print(\"Mean Squared Error:\", mse_xgb)\n",
        "print(\"R-squared:\", r2_xgb)"
      ],
      "metadata": {
        "colab": {
          "base_uri": "https://localhost:8080/"
        },
        "id": "_O4TerVuaMo2",
        "outputId": "3d2ae00c-5965-4f53-c023-efca13488d3c"
      },
      "execution_count": 20,
      "outputs": [
        {
          "output_type": "stream",
          "name": "stdout",
          "text": [
            "Mean Absolute Error: 0.7961627840995789\n",
            "Mean Squared Error: 2.796628952026367\n",
            "R-squared: 0.9983848333358765\n"
          ]
        }
      ]
    },
    {
      "cell_type": "code",
      "source": [
        "plt.figure(figsize=(6, 6))\n",
        "plt.scatter(y_test, xgb_predict, alpha=0.4, color='teal')\n",
        "plt.plot([y_test.min(), y_test.max()], [y_test.min(), y_test.max()], 'r--')\n",
        "plt.xlabel(\"Actual Fantasy Score\")\n",
        "plt.ylabel(\"Predicted Fantasy Score\")\n",
        "plt.title(\"XGBoost: Actual vs Predicted\")\n",
        "plt.grid(True)\n",
        "plt.tight_layout()\n",
        "plt.show()"
      ],
      "metadata": {
        "colab": {
          "base_uri": "https://localhost:8080/",
          "height": 607
        },
        "id": "_Mn_FNlXZtUu",
        "outputId": "47da627d-81f8-4b42-9057-29426bd878e5"
      },
      "execution_count": 21,
      "outputs": [
        {
          "output_type": "display_data",
          "data": {
            "text/plain": [
              "<Figure size 600x600 with 1 Axes>"
            ],
            "image/png": "[encoded data removed]"
          },
          "metadata": {}
        }
      ]
    },
    {
      "cell_type": "markdown",
      "source": [
        "## SHAP Analysis"
      ],
      "metadata": {
        "id": "4inFdJ0Lar_-"
      }
    },
    {
      "cell_type": "code",
      "source": [
        "x_shap_sample = x_test.sample(n=3000, random_state=42)\n",
        "\n",
        "explainer = shap.Explainer(xgb_model)\n",
        "shap_values = explainer(x_shap_sample)\n",
        "\n",
        "shap.plots.beeswarm(shap_values)\n"
      ],
      "metadata": {
        "colab": {
          "base_uri": "https://localhost:8080/",
          "height": 514
        },
        "id": "9vOqYLeQa57B",
        "outputId": "a890bdcd-8856-4f54-98af-1357c53f4b6d"
      },
      "execution_count": 24,
      "outputs": [
        {
          "output_type": "display_data",
          "data": {
            "text/plain": [
              "<Figure size 800x550 with 2 Axes>"
            ],
            "image/png": "[encoded data removed]"
          },
          "metadata": {}
        }
      ]
    },
    {
      "cell_type": "markdown",
      "source": [
        "## PCA Implementation"
      ],
      "metadata": {
        "id": "SfdY1LG4ejCt"
      }
    },
    {
      "cell_type": "code",
      "source": [
        "scaler = StandardScaler()\n",
        "x_scaled = scaler.fit_transform(x)\n",
        "\n",
        "pca = PCA(n_components=0.95, random_state=42)\n",
        "x_pca = pca.fit_transform(x_scaled)"
      ],
      "metadata": {
        "id": "UUABCDTgbtr3"
      },
      "execution_count": 25,
      "outputs": []
    },
    {
      "cell_type": "code",
      "source": [
        "plt.figure(figsize=(8, 4))\n",
        "plt.plot(np.cumsum(pca.explained_variance_ratio_), marker='o')\n",
        "plt.xlabel('Number of Components')\n",
        "plt.ylabel('Cumulative Explained Variance')\n",
        "plt.title('PCA Variance Plot')\n",
        "plt.grid(True)\n",
        "plt.show()"
      ],
      "metadata": {
        "colab": {
          "base_uri": "https://localhost:8080/",
          "height": 410
        },
        "id": "DlPOuLsre7v5",
        "outputId": "ad8163bb-3bb2-4a7c-da5f-2d2dfdd8a599"
      },
      "execution_count": 26,
      "outputs": [
        {
          "output_type": "display_data",
          "data": {
            "text/plain": [
              "<Figure size 800x400 with 1 Axes>"
            ],
            "image/png": "[encoded data removed]"
          },
          "metadata": {}
        }
      ]
    },
    {
      "cell_type": "markdown",
      "source": [
        "Linear Regression after PCA"
      ],
      "metadata": {
        "id": "NGEnok9RfGcA"
      }
    },
    {
      "cell_type": "code",
      "source": [
        "x_train_pca = x_pca[df['match_date'].dt.year <= 2022]\n",
        "x_test_pca = x_pca[df['match_date'].dt.year > 2022]\n",
        "lr_after_pca = LinearRegression()\n",
        "lr_after_pca.fit(x_train_pca, y_train)\n",
        "\n",
        "lr_predict_after_pca = lr_after_pca.predict(x_test_pca)\n",
        "\n",
        "mae_lr_after_pca = mean_absolute_error(y_test, lr_predict_after_pca)\n",
        "mse_lr_after_pca = mean_squared_error(y_test, lr_predict_after_pca)\n",
        "r2_lr_after_pca = r2_score(y_test, lr_predict_after_pca)\n",
        "\n",
        "print(\"Mean Absolute Error:\", mae_lr_after_pca)\n",
        "print(\"Mean Squared Error:\", mse_lr_after_pca)\n",
        "print(\"R-squared:\", r2_lr_after_pca)"
      ],
      "metadata": {
        "colab": {
          "base_uri": "https://localhost:8080/"
        },
        "id": "nQQ_lGAVe-nn",
        "outputId": "39c02077-a430-4f2f-ee4d-292dae961254"
      },
      "execution_count": 30,
      "outputs": [
        {
          "output_type": "stream",
          "name": "stdout",
          "text": [
            "Mean Absolute Error: 9.783202744337423\n",
            "Mean Squared Error: 196.34068873687272\n",
            "R-squared: 0.8866059355222486\n"
          ]
        }
      ]
    },
    {
      "cell_type": "code",
      "source": [],
      "metadata": {
        "id": "95YcfNFhf72B"
      },
      "execution_count": null,
      "outputs": []
    }
  ]
}