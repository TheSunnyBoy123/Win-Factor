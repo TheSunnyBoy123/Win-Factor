{
  "nbformat": 4,
  "nbformat_minor": 0,
  "metadata": {
    "colab": {
      "provenance": [],
      "include_colab_link": true
    },
    "kernelspec": {
      "name": "python3",
      "display_name": "Python 3"
    },
    "language_info": {
      "name": "python"
    }
  },
  "cells": [
    {
      "cell_type": "markdown",
      "metadata": {
        "id": "view-in-github",
        "colab_type": "text"
      },
      "source": [
        "<a href=\"https://colab.research.google.com/github/pAppr69/Win-Factor_yashjeet/blob/main/submissions_Yashjeet/basic_pipeline.ipynb\" target=\"_parent\"><img src=\"https://colab.research.google.com/assets/colab-badge.svg\" alt=\"Open In Colab\"/></a>"
      ]
    },
    {
      "cell_type": "code",
      "source": [
        "import pandas as pd\n",
        "import numpy as np\n",
        "import matplotlib.pyplot as plt\n",
        "import seaborn as sns\n",
        "import warnings\n",
        "warnings.filterwarnings('ignore')"
      ],
      "metadata": {
        "id": "WchI9_bfZwI0"
      },
      "execution_count": 84,
      "outputs": []
    },
    {
      "cell_type": "code",
      "source": [
        "url = 'https://media.githubusercontent.com/media/pAppr69/Win-Factor_yashjeet/refs/heads/main/mw_pw_profiles.csv'\n",
        "df = pd.read_csv(url)"
      ],
      "metadata": {
        "id": "aj-sTW8BCCev"
      },
      "execution_count": 85,
      "outputs": []
    },
    {
      "cell_type": "code",
      "source": [
        "def get_info(df):\n",
        "  info_dict = {\n",
        "      \"Column_Name\": df.columns,\n",
        "      \"Data_Type\": df.dtypes,\n",
        "      \"NaN_Percentage\": (df.isna().sum() / len(df) * 100).round(2)\n",
        "  }\n",
        "  return pd.DataFrame(info_dict)\n",
        "get_info(df)"
      ],
      "metadata": {
        "colab": {
          "base_uri": "https://localhost:8080/",
          "height": 1000
        },
        "id": "hvS34L9I2F5j",
        "outputId": "b990f4d0-bc64-4308-b3c4-4f87a29afab9"
      },
      "execution_count": 86,
      "outputs": [
        {
          "output_type": "execute_result",
          "data": {
            "text/plain": [
              "                                 Column_Name Data_Type  NaN_Percentage\n",
              "player_id                          player_id    object            0.00\n",
              "match_id                            match_id    object            0.00\n",
              "gender                                gender    object            0.00\n",
              "balls_per_over                balls_per_over     int64            0.00\n",
              "start_date                        start_date    object            0.00\n",
              "series_name                      series_name    object            0.47\n",
              "match_type                        match_type    object            0.00\n",
              "name_x                                name_x    object            0.00\n",
              "runs_scored                      runs_scored     int64            0.00\n",
              "player_out                        player_out     int64            0.00\n",
              "balls_faced                      balls_faced     int64            0.00\n",
              "fours_scored                    fours_scored     int64            0.00\n",
              "sixes_scored                    sixes_scored     int64            0.00\n",
              "catches_taken                  catches_taken     int64            0.00\n",
              "run_out_direct                run_out_direct     int64            0.00\n",
              "run_out_throw                  run_out_throw     int64            0.00\n",
              "stumpings_done                stumpings_done     int64            0.00\n",
              "out_kind                            out_kind    object            0.00\n",
              "dot_balls_as_batsman    dot_balls_as_batsman     int64            0.00\n",
              "order_seen                        order_seen     int64            0.00\n",
              "balls_bowled                    balls_bowled     int64            0.00\n",
              "runs_conceded                  runs_conceded     int64            0.00\n",
              "wickets_taken                  wickets_taken     int64            0.00\n",
              "bowled_done                      bowled_done     int64            0.00\n",
              "lbw_done                            lbw_done     int64            0.00\n",
              "maidens                              maidens     int64            0.00\n",
              "dot_balls_as_bowler      dot_balls_as_bowler     int64            0.00\n",
              "player_team                      player_team    object            0.00\n",
              "opposition_team              opposition_team    object            0.00\n",
              "name_y                                name_y    object            0.00\n",
              "unique_name                      unique_name    object            0.00\n",
              "key_bcci                            key_bcci    object           91.14\n",
              "key_bcci_2                        key_bcci_2    object           99.77\n",
              "key_bigbash                      key_bigbash   float64           87.43\n",
              "key_cricbuzz                    key_cricbuzz   float64           99.03\n",
              "key_cricheroes                key_cricheroes   float64           99.72\n",
              "key_crichq                        key_crichq   float64           99.97\n",
              "key_cricinfo                    key_cricinfo   float64            0.03\n",
              "key_cricinfo_2                key_cricinfo_2   float64           99.53\n",
              "key_cricinfo_3                key_cricinfo_3   float64          100.00\n",
              "key_cricingif                  key_cricingif   float64           92.95\n",
              "key_cricketarchive        key_cricketarchive   float64           35.23\n",
              "key_cricketarchive_2    key_cricketarchive_2   float64           99.99\n",
              "key_cricketworld            key_cricketworld   float64           98.40\n",
              "key_nvplay                        key_nvplay    object           81.18\n",
              "key_nvplay_2                    key_nvplay_2    object           99.54\n",
              "key_opta                            key_opta   float64           98.52\n",
              "key_opta_2                        key_opta_2   float64           99.97\n",
              "key_pulse                          key_pulse   float64           38.10\n",
              "key_pulse_2                      key_pulse_2   float64           99.53\n",
              "full_name                          full_name   float64          100.00\n",
              "batting_style                  batting_style   float64          100.00\n",
              "bowling_style                  bowling_style   float64          100.00\n",
              "playing_role                    playing_role   float64          100.00\n",
              "teams                                  teams    object            0.03\n",
              "fantasy_score_batting  fantasy_score_batting     int64            0.00\n",
              "fantasy_score_bowling  fantasy_score_bowling     int64            0.00\n",
              "fantasy_score_total      fantasy_score_total     int64            0.00"
            ],
            "text/html": [
              "\n",
              "  <div id=\"df-227fa92f-1af2-4744-8072-2ff86c78f018\" class=\"colab-df-container\">\n",
              "    <div>\n",
              "<style scoped>\n",
              "    .dataframe tbody tr th:only-of-type {\n",
              "        vertical-align: middle;\n",
              "    }\n",
              "\n",
              "    .dataframe tbody tr th {\n",
              "        vertical-align: top;\n",
              "    }\n",
              "\n",
              "    .dataframe thead th {\n",
              "        text-align: right;\n",
              "    }\n",
              "</style>\n",
              "<table border=\"1\" class=\"dataframe\">\n",
              "  <thead>\n",
              "    <tr style=\"text-align: right;\">\n",
              "      <th></th>\n",
              "      <th>Column_Name</th>\n",
              "      <th>Data_Type</th>\n",
              "      <th>NaN_Percentage</th>\n",
              "    </tr>\n",
              "  </thead>\n",
              "  <tbody>\n",
              "    <tr>\n",
              "      <th>player_id</th>\n",
              "      <td>player_id</td>\n",
              "      <td>object</td>\n",
              "      <td>0.00</td>\n",
              "    </tr>\n",
              "    <tr>\n",
              "      <th>match_id</th>\n",
              "      <td>match_id</td>\n",
              "      <td>object</td>\n",
              "      <td>0.00</td>\n",
              "    </tr>\n",
              "    <tr>\n",
              "      <th>gender</th>\n",
              "      <td>gender</td>\n",
              "      <td>object</td>\n",
              "      <td>0.00</td>\n",
              "    </tr>\n",
              "    <tr>\n",
              "      <th>balls_per_over</th>\n",
              "      <td>balls_per_over</td>\n",
              "      <td>int64</td>\n",
              "      <td>0.00</td>\n",
              "    </tr>\n",
              "    <tr>\n",
              "      <th>start_date</th>\n",
              "      <td>start_date</td>\n",
              "      <td>object</td>\n",
              "      <td>0.00</td>\n",
              "    </tr>\n",
              "    <tr>\n",
              "      <th>series_name</th>\n",
              "      <td>series_name</td>\n",
              "      <td>object</td>\n",
              "      <td>0.47</td>\n",
              "    </tr>\n",
              "    <tr>\n",
              "      <th>match_type</th>\n",
              "      <td>match_type</td>\n",
              "      <td>object</td>\n",
              "      <td>0.00</td>\n",
              "    </tr>\n",
              "    <tr>\n",
              "      <th>name_x</th>\n",
              "      <td>name_x</td>\n",
              "      <td>object</td>\n",
              "      <td>0.00</td>\n",
              "    </tr>\n",
              "    <tr>\n",
              "      <th>runs_scored</th>\n",
              "      <td>runs_scored</td>\n",
              "      <td>int64</td>\n",
              "      <td>0.00</td>\n",
              "    </tr>\n",
              "    <tr>\n",
              "      <th>player_out</th>\n",
              "      <td>player_out</td>\n",
              "      <td>int64</td>\n",
              "      <td>0.00</td>\n",
              "    </tr>\n",
              "    <tr>\n",
              "      <th>balls_faced</th>\n",
              "      <td>balls_faced</td>\n",
              "      <td>int64</td>\n",
              "      <td>0.00</td>\n",
              "    </tr>\n",
              "    <tr>\n",
              "      <th>fours_scored</th>\n",
              "      <td>fours_scored</td>\n",
              "      <td>int64</td>\n",
              "      <td>0.00</td>\n",
              "    </tr>\n",
              "    <tr>\n",
              "      <th>sixes_scored</th>\n",
              "      <td>sixes_scored</td>\n",
              "      <td>int64</td>\n",
              "      <td>0.00</td>\n",
              "    </tr>\n",
              "    <tr>\n",
              "      <th>catches_taken</th>\n",
              "      <td>catches_taken</td>\n",
              "      <td>int64</td>\n",
              "      <td>0.00</td>\n",
              "    </tr>\n",
              "    <tr>\n",
              "      <th>run_out_direct</th>\n",
              "      <td>run_out_direct</td>\n",
              "      <td>int64</td>\n",
              "      <td>0.00</td>\n",
              "    </tr>\n",
              "    <tr>\n",
              "      <th>run_out_throw</th>\n",
              "      <td>run_out_throw</td>\n",
              "      <td>int64</td>\n",
              "      <td>0.00</td>\n",
              "    </tr>\n",
              "    <tr>\n",
              "      <th>stumpings_done</th>\n",
              "      <td>stumpings_done</td>\n",
              "      <td>int64</td>\n",
              "      <td>0.00</td>\n",
              "    </tr>\n",
              "    <tr>\n",
              "      <th>out_kind</th>\n",
              "      <td>out_kind</td>\n",
              "      <td>object</td>\n",
              "      <td>0.00</td>\n",
              "    </tr>\n",
              "    <tr>\n",
              "      <th>dot_balls_as_batsman</th>\n",
              "      <td>dot_balls_as_batsman</td>\n",
              "      <td>int64</td>\n",
              "      <td>0.00</td>\n",
              "    </tr>\n",
              "    <tr>\n",
              "      <th>order_seen</th>\n",
              "      <td>order_seen</td>\n",
              "      <td>int64</td>\n",
              "      <td>0.00</td>\n",
              "    </tr>\n",
              "    <tr>\n",
              "      <th>balls_bowled</th>\n",
              "      <td>balls_bowled</td>\n",
              "      <td>int64</td>\n",
              "      <td>0.00</td>\n",
              "    </tr>\n",
              "    <tr>\n",
              "      <th>runs_conceded</th>\n",
              "      <td>runs_conceded</td>\n",
              "      <td>int64</td>\n",
              "      <td>0.00</td>\n",
              "    </tr>\n",
              "    <tr>\n",
              "      <th>wickets_taken</th>\n",
              "      <td>wickets_taken</td>\n",
              "      <td>int64</td>\n",
              "      <td>0.00</td>\n",
              "    </tr>\n",
              "    <tr>\n",
              "      <th>bowled_done</th>\n",
              "      <td>bowled_done</td>\n",
              "      <td>int64</td>\n",
              "      <td>0.00</td>\n",
              "    </tr>\n",
              "    <tr>\n",
              "      <th>lbw_done</th>\n",
              "      <td>lbw_done</td>\n",
              "      <td>int64</td>\n",
              "      <td>0.00</td>\n",
              "    </tr>\n",
              "    <tr>\n",
              "      <th>maidens</th>\n",
              "      <td>maidens</td>\n",
              "      <td>int64</td>\n",
              "      <td>0.00</td>\n",
              "    </tr>\n",
              "    <tr>\n",
              "      <th>dot_balls_as_bowler</th>\n",
              "      <td>dot_balls_as_bowler</td>\n",
              "      <td>int64</td>\n",
              "      <td>0.00</td>\n",
              "    </tr>\n",
              "    <tr>\n",
              "      <th>player_team</th>\n",
              "      <td>player_team</td>\n",
              "      <td>object</td>\n",
              "      <td>0.00</td>\n",
              "    </tr>\n",
              "    <tr>\n",
              "      <th>opposition_team</th>\n",
              "      <td>opposition_team</td>\n",
              "      <td>object</td>\n",
              "      <td>0.00</td>\n",
              "    </tr>\n",
              "    <tr>\n",
              "      <th>name_y</th>\n",
              "      <td>name_y</td>\n",
              "      <td>object</td>\n",
              "      <td>0.00</td>\n",
              "    </tr>\n",
              "    <tr>\n",
              "      <th>unique_name</th>\n",
              "      <td>unique_name</td>\n",
              "      <td>object</td>\n",
              "      <td>0.00</td>\n",
              "    </tr>\n",
              "    <tr>\n",
              "      <th>key_bcci</th>\n",
              "      <td>key_bcci</td>\n",
              "      <td>object</td>\n",
              "      <td>91.14</td>\n",
              "    </tr>\n",
              "    <tr>\n",
              "      <th>key_bcci_2</th>\n",
              "      <td>key_bcci_2</td>\n",
              "      <td>object</td>\n",
              "      <td>99.77</td>\n",
              "    </tr>\n",
              "    <tr>\n",
              "      <th>key_bigbash</th>\n",
              "      <td>key_bigbash</td>\n",
              "      <td>float64</td>\n",
              "      <td>87.43</td>\n",
              "    </tr>\n",
              "    <tr>\n",
              "      <th>key_cricbuzz</th>\n",
              "      <td>key_cricbuzz</td>\n",
              "      <td>float64</td>\n",
              "      <td>99.03</td>\n",
              "    </tr>\n",
              "    <tr>\n",
              "      <th>key_cricheroes</th>\n",
              "      <td>key_cricheroes</td>\n",
              "      <td>float64</td>\n",
              "      <td>99.72</td>\n",
              "    </tr>\n",
              "    <tr>\n",
              "      <th>key_crichq</th>\n",
              "      <td>key_crichq</td>\n",
              "      <td>float64</td>\n",
              "      <td>99.97</td>\n",
              "    </tr>\n",
              "    <tr>\n",
              "      <th>key_cricinfo</th>\n",
              "      <td>key_cricinfo</td>\n",
              "      <td>float64</td>\n",
              "      <td>0.03</td>\n",
              "    </tr>\n",
              "    <tr>\n",
              "      <th>key_cricinfo_2</th>\n",
              "      <td>key_cricinfo_2</td>\n",
              "      <td>float64</td>\n",
              "      <td>99.53</td>\n",
              "    </tr>\n",
              "    <tr>\n",
              "      <th>key_cricinfo_3</th>\n",
              "      <td>key_cricinfo_3</td>\n",
              "      <td>float64</td>\n",
              "      <td>100.00</td>\n",
              "    </tr>\n",
              "    <tr>\n",
              "      <th>key_cricingif</th>\n",
              "      <td>key_cricingif</td>\n",
              "      <td>float64</td>\n",
              "      <td>92.95</td>\n",
              "    </tr>\n",
              "    <tr>\n",
              "      <th>key_cricketarchive</th>\n",
              "      <td>key_cricketarchive</td>\n",
              "      <td>float64</td>\n",
              "      <td>35.23</td>\n",
              "    </tr>\n",
              "    <tr>\n",
              "      <th>key_cricketarchive_2</th>\n",
              "      <td>key_cricketarchive_2</td>\n",
              "      <td>float64</td>\n",
              "      <td>99.99</td>\n",
              "    </tr>\n",
              "    <tr>\n",
              "      <th>key_cricketworld</th>\n",
              "      <td>key_cricketworld</td>\n",
              "      <td>float64</td>\n",
              "      <td>98.40</td>\n",
              "    </tr>\n",
              "    <tr>\n",
              "      <th>key_nvplay</th>\n",
              "      <td>key_nvplay</td>\n",
              "      <td>object</td>\n",
              "      <td>81.18</td>\n",
              "    </tr>\n",
              "    <tr>\n",
              "      <th>key_nvplay_2</th>\n",
              "      <td>key_nvplay_2</td>\n",
              "      <td>object</td>\n",
              "      <td>99.54</td>\n",
              "    </tr>\n",
              "    <tr>\n",
              "      <th>key_opta</th>\n",
              "      <td>key_opta</td>\n",
              "      <td>float64</td>\n",
              "      <td>98.52</td>\n",
              "    </tr>\n",
              "    <tr>\n",
              "      <th>key_opta_2</th>\n",
              "      <td>key_opta_2</td>\n",
              "      <td>float64</td>\n",
              "      <td>99.97</td>\n",
              "    </tr>\n",
              "    <tr>\n",
              "      <th>key_pulse</th>\n",
              "      <td>key_pulse</td>\n",
              "      <td>float64</td>\n",
              "      <td>38.10</td>\n",
              "    </tr>\n",
              "    <tr>\n",
              "      <th>key_pulse_2</th>\n",
              "      <td>key_pulse_2</td>\n",
              "      <td>float64</td>\n",
              "      <td>99.53</td>\n",
              "    </tr>\n",
              "    <tr>\n",
              "      <th>full_name</th>\n",
              "      <td>full_name</td>\n",
              "      <td>float64</td>\n",
              "      <td>100.00</td>\n",
              "    </tr>\n",
              "    <tr>\n",
              "      <th>batting_style</th>\n",
              "      <td>batting_style</td>\n",
              "      <td>float64</td>\n",
              "      <td>100.00</td>\n",
              "    </tr>\n",
              "    <tr>\n",
              "      <th>bowling_style</th>\n",
              "      <td>bowling_style</td>\n",
              "      <td>float64</td>\n",
              "      <td>100.00</td>\n",
              "    </tr>\n",
              "    <tr>\n",
              "      <th>playing_role</th>\n",
              "      <td>playing_role</td>\n",
              "      <td>float64</td>\n",
              "      <td>100.00</td>\n",
              "    </tr>\n",
              "    <tr>\n",
              "      <th>teams</th>\n",
              "      <td>teams</td>\n",
              "      <td>object</td>\n",
              "      <td>0.03</td>\n",
              "    </tr>\n",
              "    <tr>\n",
              "      <th>fantasy_score_batting</th>\n",
              "      <td>fantasy_score_batting</td>\n",
              "      <td>int64</td>\n",
              "      <td>0.00</td>\n",
              "    </tr>\n",
              "    <tr>\n",
              "      <th>fantasy_score_bowling</th>\n",
              "      <td>fantasy_score_bowling</td>\n",
              "      <td>int64</td>\n",
              "      <td>0.00</td>\n",
              "    </tr>\n",
              "    <tr>\n",
              "      <th>fantasy_score_total</th>\n",
              "      <td>fantasy_score_total</td>\n",
              "      <td>int64</td>\n",
              "      <td>0.00</td>\n",
              "    </tr>\n",
              "  </tbody>\n",
              "</table>\n",
              "</div>\n",
              "    <div class=\"colab-df-buttons\">\n",
              "\n",
              "  <div class=\"colab-df-container\">\n",
              "    <button class=\"colab-df-convert\" onclick=\"convertToInteractive('df-227fa92f-1af2-4744-8072-2ff86c78f018')\"\n",
              "            title=\"Convert this dataframe to an interactive table.\"\n",
              "            style=\"display:none;\">\n",
              "\n",
              "  <svg xmlns=\"http://www.w3.org/2000/svg\" height=\"24px\" viewBox=\"0 -960 960 960\">\n",
              "    <path d=\"M120-120v-720h720v720H120Zm60-500h600v-160H180v160Zm220 220h160v-160H400v160Zm0 220h160v-160H400v160ZM180-400h160v-160H180v160Zm440 0h160v-160H620v160ZM180-180h160v-160H180v160Zm440 0h160v-160H620v160Z\"/>\n",
              "  </svg>\n",
              "    </button>\n",
              "\n",
              "  <style>\n",
              "    .colab-df-container {\n",
              "      display:flex;\n",
              "      gap: 12px;\n",
              "    }\n",
              "\n",
              "    .colab-df-convert {\n",
              "      background-color: #E8F0FE;\n",
              "      border: none;\n",
              "      border-radius: 50%;\n",
              "      cursor: pointer;\n",
              "      display: none;\n",
              "      fill: #1967D2;\n",
              "      height: 32px;\n",
              "      padding: 0 0 0 0;\n",
              "      width: 32px;\n",
              "    }\n",
              "\n",
              "    .colab-df-convert:hover {\n",
              "      background-color: #E2EBFA;\n",
              "      box-shadow: 0px 1px 2px rgba(60, 64, 67, 0.3), 0px 1px 3px 1px rgba(60, 64, 67, 0.15);\n",
              "      fill: #174EA6;\n",
              "    }\n",
              "\n",
              "    .colab-df-buttons div {\n",
              "      margin-bottom: 4px;\n",
              "    }\n",
              "\n",
              "    [theme=dark] .colab-df-convert {\n",
              "      background-color: #3B4455;\n",
              "      fill: #D2E3FC;\n",
              "    }\n",
              "\n",
              "    [theme=dark] .colab-df-convert:hover {\n",
              "      background-color: #434B5C;\n",
              "      box-shadow: 0px 1px 3px 1px rgba(0, 0, 0, 0.15);\n",
              "      filter: drop-shadow(0px 1px 2px rgba(0, 0, 0, 0.3));\n",
              "      fill: #FFFFFF;\n",
              "    }\n",
              "  </style>\n",
              "\n",
              "    <script>\n",
              "      const buttonEl =\n",
              "        document.querySelector('#df-227fa92f-1af2-4744-8072-2ff86c78f018 button.colab-df-convert');\n",
              "      buttonEl.style.display =\n",
              "        google.colab.kernel.accessAllowed ? 'block' : 'none';\n",
              "\n",
              "      async function convertToInteractive(key) {\n",
              "        const element = document.querySelector('#df-227fa92f-1af2-4744-8072-2ff86c78f018');\n",
              "        const dataTable =\n",
              "          await google.colab.kernel.invokeFunction('convertToInteractive',\n",
              "                                                    [key], {});\n",
              "        if (!dataTable) return;\n",
              "\n",
              "        const docLinkHtml = 'Like what you see? Visit the ' +\n",
              "          '<a target=\"_blank\" href=https://colab.research.google.com/notebooks/data_table.ipynb>data table notebook</a>'\n",
              "          + ' to learn more about interactive tables.';\n",
              "        element.innerHTML = '';\n",
              "        dataTable['output_type'] = 'display_data';\n",
              "        await google.colab.output.renderOutput(dataTable, element);\n",
              "        const docLink = document.createElement('div');\n",
              "        docLink.innerHTML = docLinkHtml;\n",
              "        element.appendChild(docLink);\n",
              "      }\n",
              "    </script>\n",
              "  </div>\n",
              "\n",
              "\n",
              "    <div id=\"df-d38d3307-3f1b-4445-a3dc-76c271ad13ec\">\n",
              "      <button class=\"colab-df-quickchart\" onclick=\"quickchart('df-d38d3307-3f1b-4445-a3dc-76c271ad13ec')\"\n",
              "                title=\"Suggest charts\"\n",
              "                style=\"display:none;\">\n",
              "\n",
              "<svg xmlns=\"http://www.w3.org/2000/svg\" height=\"24px\"viewBox=\"0 0 24 24\"\n",
              "     width=\"24px\">\n",
              "    <g>\n",
              "        <path d=\"M19 3H5c-1.1 0-2 .9-2 2v14c0 1.1.9 2 2 2h14c1.1 0 2-.9 2-2V5c0-1.1-.9-2-2-2zM9 17H7v-7h2v7zm4 0h-2V7h2v10zm4 0h-2v-4h2v4z\"/>\n",
              "    </g>\n",
              "</svg>\n",
              "      </button>\n",
              "\n",
              "<style>\n",
              "  .colab-df-quickchart {\n",
              "      --bg-color: #E8F0FE;\n",
              "      --fill-color: #1967D2;\n",
              "      --hover-bg-color: #E2EBFA;\n",
              "      --hover-fill-color: #174EA6;\n",
              "      --disabled-fill-color: #AAA;\n",
              "      --disabled-bg-color: #DDD;\n",
              "  }\n",
              "\n",
              "  [theme=dark] .colab-df-quickchart {\n",
              "      --bg-color: #3B4455;\n",
              "      --fill-color: #D2E3FC;\n",
              "      --hover-bg-color: #434B5C;\n",
              "      --hover-fill-color: #FFFFFF;\n",
              "      --disabled-bg-color: #3B4455;\n",
              "      --disabled-fill-color: #666;\n",
              "  }\n",
              "\n",
              "  .colab-df-quickchart {\n",
              "    background-color: var(--bg-color);\n",
              "    border: none;\n",
              "    border-radius: 50%;\n",
              "    cursor: pointer;\n",
              "    display: none;\n",
              "    fill: var(--fill-color);\n",
              "    height: 32px;\n",
              "    padding: 0;\n",
              "    width: 32px;\n",
              "  }\n",
              "\n",
              "  .colab-df-quickchart:hover {\n",
              "    background-color: var(--hover-bg-color);\n",
              "    box-shadow: 0 1px 2px rgba(60, 64, 67, 0.3), 0 1px 3px 1px rgba(60, 64, 67, 0.15);\n",
              "    fill: var(--button-hover-fill-color);\n",
              "  }\n",
              "\n",
              "  .colab-df-quickchart-complete:disabled,\n",
              "  .colab-df-quickchart-complete:disabled:hover {\n",
              "    background-color: var(--disabled-bg-color);\n",
              "    fill: var(--disabled-fill-color);\n",
              "    box-shadow: none;\n",
              "  }\n",
              "\n",
              "  .colab-df-spinner {\n",
              "    border: 2px solid var(--fill-color);\n",
              "    border-color: transparent;\n",
              "    border-bottom-color: var(--fill-color);\n",
              "    animation:\n",
              "      spin 1s steps(1) infinite;\n",
              "  }\n",
              "\n",
              "  @keyframes spin {\n",
              "    0% {\n",
              "      border-color: transparent;\n",
              "      border-bottom-color: var(--fill-color);\n",
              "      border-left-color: var(--fill-color);\n",
              "    }\n",
              "    20% {\n",
              "      border-color: transparent;\n",
              "      border-left-color: var(--fill-color);\n",
              "      border-top-color: var(--fill-color);\n",
              "    }\n",
              "    30% {\n",
              "      border-color: transparent;\n",
              "      border-left-color: var(--fill-color);\n",
              "      border-top-color: var(--fill-color);\n",
              "      border-right-color: var(--fill-color);\n",
              "    }\n",
              "    40% {\n",
              "      border-color: transparent;\n",
              "      border-right-color: var(--fill-color);\n",
              "      border-top-color: var(--fill-color);\n",
              "    }\n",
              "    60% {\n",
              "      border-color: transparent;\n",
              "      border-right-color: var(--fill-color);\n",
              "    }\n",
              "    80% {\n",
              "      border-color: transparent;\n",
              "      border-right-color: var(--fill-color);\n",
              "      border-bottom-color: var(--fill-color);\n",
              "    }\n",
              "    90% {\n",
              "      border-color: transparent;\n",
              "      border-bottom-color: var(--fill-color);\n",
              "    }\n",
              "  }\n",
              "</style>\n",
              "\n",
              "      <script>\n",
              "        async function quickchart(key) {\n",
              "          const quickchartButtonEl =\n",
              "            document.querySelector('#' + key + ' button');\n",
              "          quickchartButtonEl.disabled = true;  // To prevent multiple clicks.\n",
              "          quickchartButtonEl.classList.add('colab-df-spinner');\n",
              "          try {\n",
              "            const charts = await google.colab.kernel.invokeFunction(\n",
              "                'suggestCharts', [key], {});\n",
              "          } catch (error) {\n",
              "            console.error('Error during call to suggestCharts:', error);\n",
              "          }\n",
              "          quickchartButtonEl.classList.remove('colab-df-spinner');\n",
              "          quickchartButtonEl.classList.add('colab-df-quickchart-complete');\n",
              "        }\n",
              "        (() => {\n",
              "          let quickchartButtonEl =\n",
              "            document.querySelector('#df-d38d3307-3f1b-4445-a3dc-76c271ad13ec button');\n",
              "          quickchartButtonEl.style.display =\n",
              "            google.colab.kernel.accessAllowed ? 'block' : 'none';\n",
              "        })();\n",
              "      </script>\n",
              "    </div>\n",
              "\n",
              "    </div>\n",
              "  </div>\n"
            ],
            "application/vnd.google.colaboratory.intrinsic+json": {
              "type": "dataframe",
              "summary": "{\n  \"name\": \"get_info(df)\",\n  \"rows\": 58,\n  \"fields\": [\n    {\n      \"column\": \"Column_Name\",\n      \"properties\": {\n        \"dtype\": \"string\",\n        \"num_unique_values\": 58,\n        \"samples\": [\n          \"player_id\",\n          \"series_name\",\n          \"key_cricbuzz\"\n        ],\n        \"semantic_type\": \"\",\n        \"description\": \"\"\n      }\n    },\n    {\n      \"column\": \"Data_Type\",\n      \"properties\": {\n        \"dtype\": \"category\",\n        \"num_unique_values\": 3,\n        \"samples\": [\n          \"object\",\n          \"int64\",\n          \"float64\"\n        ],\n        \"semantic_type\": \"\",\n        \"description\": \"\"\n      }\n    },\n    {\n      \"column\": \"NaN_Percentage\",\n      \"properties\": {\n        \"dtype\": \"number\",\n        \"std\": 46.31797360155282,\n        \"min\": 0.0,\n        \"max\": 100.0,\n        \"num_unique_values\": 19,\n        \"samples\": [\n          0.0,\n          99.03,\n          92.95\n        ],\n        \"semantic_type\": \"\",\n        \"description\": \"\"\n      }\n    }\n  ]\n}"
            }
          },
          "metadata": {},
          "execution_count": 86
        }
      ]
    },
    {
      "cell_type": "code",
      "source": [
        "df.match_type.value_counts()"
      ],
      "metadata": {
        "colab": {
          "base_uri": "https://localhost:8080/",
          "height": 300
        },
        "id": "QXgHrKHBPj10",
        "outputId": "64e3d407-19b0-4b39-927d-1187f04fb7d9"
      },
      "execution_count": 87,
      "outputs": [
        {
          "output_type": "execute_result",
          "data": {
            "text/plain": [
              "match_type\n",
              "T20     252665\n",
              "ODI      65192\n",
              "MDM      39693\n",
              "ODM      33115\n",
              "Test     19007\n",
              "IT20      7040\n",
              "Name: count, dtype: int64"
            ],
            "text/html": [
              "<div>\n",
              "<style scoped>\n",
              "    .dataframe tbody tr th:only-of-type {\n",
              "        vertical-align: middle;\n",
              "    }\n",
              "\n",
              "    .dataframe tbody tr th {\n",
              "        vertical-align: top;\n",
              "    }\n",
              "\n",
              "    .dataframe thead th {\n",
              "        text-align: right;\n",
              "    }\n",
              "</style>\n",
              "<table border=\"1\" class=\"dataframe\">\n",
              "  <thead>\n",
              "    <tr style=\"text-align: right;\">\n",
              "      <th></th>\n",
              "      <th>count</th>\n",
              "    </tr>\n",
              "    <tr>\n",
              "      <th>match_type</th>\n",
              "      <th></th>\n",
              "    </tr>\n",
              "  </thead>\n",
              "  <tbody>\n",
              "    <tr>\n",
              "      <th>T20</th>\n",
              "      <td>252665</td>\n",
              "    </tr>\n",
              "    <tr>\n",
              "      <th>ODI</th>\n",
              "      <td>65192</td>\n",
              "    </tr>\n",
              "    <tr>\n",
              "      <th>MDM</th>\n",
              "      <td>39693</td>\n",
              "    </tr>\n",
              "    <tr>\n",
              "      <th>ODM</th>\n",
              "      <td>33115</td>\n",
              "    </tr>\n",
              "    <tr>\n",
              "      <th>Test</th>\n",
              "      <td>19007</td>\n",
              "    </tr>\n",
              "    <tr>\n",
              "      <th>IT20</th>\n",
              "      <td>7040</td>\n",
              "    </tr>\n",
              "  </tbody>\n",
              "</table>\n",
              "</div><br><label><b>dtype:</b> int64</label>"
            ]
          },
          "metadata": {},
          "execution_count": 87
        }
      ]
    },
    {
      "cell_type": "code",
      "source": [
        "df.match_id.unique().shape"
      ],
      "metadata": {
        "colab": {
          "base_uri": "https://localhost:8080/"
        },
        "id": "S3RHsQxZSZc9",
        "outputId": "f1e3cfab-edf6-4f4a-bdf0-a9f9921c362c"
      },
      "execution_count": 88,
      "outputs": [
        {
          "output_type": "execute_result",
          "data": {
            "text/plain": [
              "(18896,)"
            ]
          },
          "metadata": {},
          "execution_count": 88
        }
      ]
    },
    {
      "cell_type": "code",
      "source": [
        "df_T20 = df[df['match_type'] == 'T20']"
      ],
      "metadata": {
        "id": "JtUuMtBrTTgh"
      },
      "execution_count": 89,
      "outputs": []
    },
    {
      "cell_type": "code",
      "source": [
        "df = df[['player_id','match_id','start_date','gender','order_seen', 'catches_taken', 'run_out_direct', 'run_out_throw', 'stumpings_done', 'balls_bowled',\n",
        "              'runs_conceded', 'wickets_taken', 'maidens', 'dot_balls_as_bowler', 'dot_balls_as_batsman', 'match_type',\n",
        "              'runs_scored', 'balls_faced', 'fours_scored', 'sixes_scored','fantasy_score_bowling', 'fantasy_score_batting', 'fantasy_score_total']]"
      ],
      "metadata": {
        "id": "9dEPSABQ1_Zb"
      },
      "execution_count": 90,
      "outputs": []
    },
    {
      "cell_type": "markdown",
      "source": [
        "Inserting new columns: STRIKE RATE | Economy   "
      ],
      "metadata": {
        "id": "OE_XIogcDHn2"
      }
    },
    {
      "cell_type": "code",
      "source": [
        "df = df.dropna()\n",
        "\n",
        "## Boundaries\n",
        "df['boundaries'] = df['sixes_scored']+df['fours_scored']\n",
        "\n",
        "## fielding\n",
        "df['fielding'] = df['run_out_direct'] + df['run_out_throw'] + df['stumpings_done'] + df['catches_taken']\n",
        "\n",
        "## dots as bowler -- a little bonus for a maiden over\n",
        "df['dots'] = df['dot_balls_as_bowler'] + df['maidens']*6.9\n",
        "\n",
        "## dot balls %percentage\n",
        "df['dot_balls_as_batsman_percentage'] = (df['dot_balls_as_batsman'] / df['balls_faced'])\n",
        "\n",
        "##\n",
        "df['batting_aggression'] = np.where(df.balls_faced != 0, (((2*df['sixes_scored'] + df['fours_scored']) / df['balls_faced'])), 0)\n",
        "\n",
        "df = df.drop(['sixes_scored', 'fours_scored', 'run_out_direct', 'run_out_throw', 'stumpings_done', 'catches_taken', 'dot_balls_as_bowler', 'maidens'], axis=1)\n",
        "\n",
        "\n",
        "df['strike_rate'] = np.where(df.balls_faced != 0, ((df['runs_scored'] / df['balls_faced']) * 100), 0)\n",
        "\n",
        "df['economy'] = np.where(df.balls_bowled != 0, ((df['runs_conceded'] / df['balls_bowled']) * 100), 0)\n",
        "## players with 0 bowls bowled have an ideal economy, can worsen our model\n",
        "## distinction between bowlers and batsmen is important to create these\n",
        "# 🥀🥀🥀 gotta do something else"
      ],
      "metadata": {
        "id": "fEqBEATC-QmP"
      },
      "execution_count": 91,
      "outputs": []
    },
    {
      "cell_type": "code",
      "source": [
        "def identify_player_role(df_player):\n",
        "\n",
        "    total_matches = len(df_player)\n",
        "    # percentage of matches with non-zero bowls bowled\n",
        "    bowling_matches = (df_player['balls_bowled'] > 0).sum()\n",
        "    bowling_percentage = (bowling_matches / total_matches) if total_matches > 0 else 0\n",
        "\n",
        "    # percentage of matches with non-zero balls faced\n",
        "    batting_matches = (df_player['balls_faced'] > 0).sum()\n",
        "    batting_percentage = (batting_matches / total_matches) if total_matches > 0 else 0\n",
        "\n",
        "    #average order seen\n",
        "    average_order_seen = df_player['order_seen'].mean()\n",
        "\n",
        "    if bowling_percentage >= 0.70:\n",
        "        if batting_percentage >= 0.60 and average_order_seen > 6.5: # Using 6.5 as the threshold for order seen\n",
        "            return 'All-Rounder'\n",
        "        else:\n",
        "            return 'Bowler'\n",
        "    else:\n",
        "        return 'Batsman'\n",
        "\n",
        "\n",
        "player_roles = df.groupby('player_id').apply(identify_player_role).reset_index(name='player_role')\n",
        "\n",
        "df = df.merge(player_roles, on='player_id', how='right')\n",
        "df.drop('order_seen', axis=1, inplace=True)\n",
        "print(\"\\nDistribution of Player Roles:\")\n",
        "print(player_roles['player_role'].value_counts())\n"
      ],
      "metadata": {
        "colab": {
          "base_uri": "https://localhost:8080/"
        },
        "id": "VrMj9KVRT_jT",
        "outputId": "d1823012-fcd9-485d-d86f-dd5d1d8e2fae"
      },
      "execution_count": 92,
      "outputs": [
        {
          "output_type": "stream",
          "name": "stdout",
          "text": [
            "\n",
            "Distribution of Player Roles:\n",
            "player_role\n",
            "Batsman        6087\n",
            "Bowler         5449\n",
            "All-Rounder     235\n",
            "Name: count, dtype: int64\n"
          ]
        }
      ]
    },
    {
      "cell_type": "code",
      "source": [
        "df.player_id.unique().shape"
      ],
      "metadata": {
        "id": "zlklGAyYLZB8",
        "colab": {
          "base_uri": "https://localhost:8080/"
        },
        "outputId": "73638943-6415-41b2-9889-5e4130251582"
      },
      "execution_count": 93,
      "outputs": [
        {
          "output_type": "execute_result",
          "data": {
            "text/plain": [
              "(11771,)"
            ]
          },
          "metadata": {},
          "execution_count": 93
        }
      ]
    },
    {
      "cell_type": "code",
      "source": [
        "df['start_date'] = pd.to_datetime(df['start_date'])\n",
        "df = df.sort_values(by='start_date')\n",
        "df.reset_index(inplace=True)"
      ],
      "metadata": {
        "id": "Qj7TV2NbGl8Z"
      },
      "execution_count": 94,
      "outputs": []
    },
    {
      "cell_type": "code",
      "source": [
        "df.drop(columns=['index'], inplace=True)"
      ],
      "metadata": {
        "id": "pntYUrrbHVb3"
      },
      "execution_count": 95,
      "outputs": []
    },
    {
      "cell_type": "code",
      "source": [
        "# leave for now, will do within boosting models\n",
        "from sklearn.preprocessing import LabelEncoder\n",
        "\n",
        "categorical_cols = ['player_id','gender', 'series_name', 'player_team', 'opposition_team']\n",
        "\n",
        "label_encoder = LabelEncoder()\n",
        "\n",
        "for col in categorical_cols:\n",
        "    df[col] = label_encoder.fit_transform(df[col])"
      ],
      "metadata": {
        "id": "HzX3nRw69TrS"
      },
      "execution_count": null,
      "outputs": []
    },
    {
      "cell_type": "markdown",
      "source": [
        "## Using Moving averages to make my features based on form of the player"
      ],
      "metadata": {
        "id": "8j4FShV1Kd67"
      }
    },
    {
      "cell_type": "code",
      "source": [
        "df.columns"
      ],
      "metadata": {
        "colab": {
          "base_uri": "https://localhost:8080/"
        },
        "id": "4wDrVgsoMBLj",
        "outputId": "479aa172-5139-45a3-c5b4-712ce354d637"
      },
      "execution_count": 96,
      "outputs": [
        {
          "output_type": "execute_result",
          "data": {
            "text/plain": [
              "Index(['player_id', 'match_id', 'start_date', 'gender', 'balls_bowled',\n",
              "       'runs_conceded', 'wickets_taken', 'dot_balls_as_batsman', 'match_type',\n",
              "       'runs_scored', 'balls_faced', 'fantasy_score_bowling',\n",
              "       'fantasy_score_batting', 'fantasy_score_total', 'boundaries',\n",
              "       'fielding', 'dots', 'dot_balls_as_batsman_percentage',\n",
              "       'batting_aggression', 'strike_rate', 'economy', 'player_role'],\n",
              "      dtype='object')"
            ]
          },
          "metadata": {},
          "execution_count": 96
        }
      ]
    },
    {
      "cell_type": "code",
      "source": [
        "# SMA\n",
        "def calc_sma(df, window, cols=['boundaries', 'fielding', 'dots', 'strike_rate', 'economy']):\n",
        "  df_sma = df.copy()\n",
        "  for col in cols:\n",
        "    if col in df_sma.columns:\n",
        "      df_sma[f'{col}_sma'] = df_sma.groupby('player_id')[col].transform(lambda x: x.rolling(window=window).mean())\n",
        "      df_sma.drop(col,axis=1, inplace=True)\n",
        "    else:\n",
        "        print(f\"Warning: Column '{col}' not found in DataFrame.\")\n",
        "  return df_sma"
      ],
      "metadata": {
        "id": "EqrB505oMHI-"
      },
      "execution_count": 97,
      "outputs": []
    },
    {
      "cell_type": "code",
      "metadata": {
        "id": "01385316"
      },
      "source": [
        "# WMA\n",
        "def calc_wma(df, span, w=(1 + 5**0.5) / 2, cols=['boundaries', 'fielding', 'dots', 'strike_rate', 'economy',\n",
        "                                                 'runs_scored','runs_conceded','wickets_taken']):\n",
        "    ## using the weights as exponents of the golden ratio\n",
        "    df_wma = df.copy()\n",
        "    weights = np.array([w**(span - i - 1) for i in range(span)])\n",
        "    weights /= weights.sum() # Normalize weights\n",
        "\n",
        "    for col in cols:\n",
        "        if col in df_wma.columns:\n",
        "            df_wma[f'{col}_wma'] = df_wma.groupby('player_id')[col].transform(\n",
        "                lambda x: x.rolling(window=span).apply(lambda y: np.dot(y, weights), raw=True)\n",
        "            )\n",
        "            df_wma.drop(col, axis=1, inplace=True)\n",
        "        else:\n",
        "          print(f\"{col} missing in df\")\n",
        "    return df_wma"
      ],
      "execution_count": 98,
      "outputs": []
    },
    {
      "cell_type": "code",
      "source": [
        "df_wma = calc_wma(df,5)"
      ],
      "metadata": {
        "id": "OEFxOPp2MJPi"
      },
      "execution_count": 99,
      "outputs": []
    },
    {
      "cell_type": "code",
      "source": [
        "# The ARITRA feature, finally 🗿\n",
        "\n",
        "weights = [0.4,0.3,0.2,0.1]\n",
        "\n",
        "df_wma['rolling_fantasy_batting'] = df_wma.groupby('player_id')['fantasy_score_batting'].transform(\n",
        "                lambda x: x.shift(1).rolling(window=4).apply(lambda y: np.dot(y, weights), raw=True)\n",
        "            )\n",
        "df_wma['rolling_fantasy_bowling'] = df_wma.groupby('player_id')['fantasy_score_bowling'].transform(\n",
        "                lambda x: x.shift(1).rolling(window=4).apply(lambda y: np.dot(y, weights), raw=True)\n",
        "            )\n",
        "df_wma['rolling_fantasy_total'] = df_wma.groupby('player_id')['fantasy_score_total'].transform(\n",
        "                lambda x: x.shift(1).rolling(window=4).apply(lambda y: np.dot(y, weights), raw=True)\n",
        "            )"
      ],
      "metadata": {
        "id": "Y_mu_0xGAqXc"
      },
      "execution_count": 108,
      "outputs": []
    },
    {
      "cell_type": "code",
      "source": [
        "df_wma.columns.shape"
      ],
      "metadata": {
        "colab": {
          "base_uri": "https://localhost:8080/"
        },
        "id": "tOOmVavLQ891",
        "outputId": "8d1b4979-3a82-4182-92b7-7ea40785ea22"
      },
      "execution_count": 111,
      "outputs": [
        {
          "output_type": "execute_result",
          "data": {
            "text/plain": [
              "(25,)"
            ]
          },
          "metadata": {},
          "execution_count": 111
        }
      ]
    },
    {
      "cell_type": "markdown",
      "source": [
        "## Random Forest"
      ],
      "metadata": {
        "id": "UenIrfAYpmCq"
      }
    },
    {
      "cell_type": "code",
      "source": [
        "def train_random_forest(X,y):\n",
        "  from sklearn.ensemble import RandomForestRegressor\n",
        "  from sklearn.compose import ColumnTransformer\n",
        "  from sklearn.pipeline import Pipeline\n",
        "  from sklearn.model_selection import train_test_split, cross_val_score\n",
        "  from sklearn.metrics import mean_squared_error, r2_score\n",
        "  from sklearn.preprocessing import StandardScaler\n",
        "  import numpy as np\n",
        "\n",
        "\n",
        "  X_train, X_test, y_train, y_test = train_test_split(X, y, test_size=0.2, random_state=1)\n",
        "\n",
        "  # Drop non-numeric columns\n",
        "  numeric_cols = X_train.select_dtypes(include=np.number).columns\n",
        "  X_train = X_train[numeric_cols]\n",
        "  X_test = X_test[numeric_cols]\n",
        "\n",
        "\n",
        "  model = RandomForestRegressor(n_estimators=50, random_state=1)\n",
        "  model.fit(X_train, y_train)\n",
        "  y_pred = model.predict(X_test)\n",
        "\n",
        "\n",
        "  ## evaluating the model\n",
        "  mse = mean_squared_error(y_test, y_pred)\n",
        "  r2 = r2_score(y_test, y_pred)\n",
        "\n",
        "  print(\"-- Random Forest Evaluation Scores--\")\n",
        "\n",
        "  # scores = cross_val_score(model, X, y, cv=5, scoring = 'r2')\n",
        "  print(f\"Mean Squared Error: {mse:.4f}\")\n",
        "  print(f\"R² Score: {r2:.4f}\")\n",
        "\n",
        "  importances = model.feature_importances_\n",
        "  feature_names = X_train.columns\n",
        "\n",
        "  print('\\n\\n- Feature Wise Importance -')\n",
        "  for feature, importance in zip(feature_names, importances):\n",
        "    print(f\"{feature}: {importance:.4f}\")\n",
        "\n",
        "  return model"
      ],
      "metadata": {
        "id": "h6P3vD33umG6"
      },
      "execution_count": 112,
      "outputs": []
    },
    {
      "cell_type": "code",
      "source": [
        "def train_xgboost_with_gridsearch(X,y):\n",
        "\n",
        "    from xgboost import XGBRegressor\n",
        "    from sklearn.model_selection import GridSearchCV, train_test_split\n",
        "    from sklearn.metrics import mean_squared_error, r2_score\n",
        "\n",
        "\n",
        "    X_train, X_test, y_train, y_test = train_test_split(X, y, test_size=0.25, random_state=2)\n",
        "\n",
        "    #base model\n",
        "    model = XGBRegressor(random_state=2, n_jobs=-1)\n",
        "    param_grid = {\n",
        "        'n_estimators': [50],\n",
        "        'learning_rate': [0.01, 0.05, 0.1],\n",
        "        'max_depth': [2,4,8],\n",
        "        'subsample': [0.8, 1.0],\n",
        "        'colsample_bytree': [0.8, 1.0],\n",
        "        'reg_alpha': [0, 0.1],\n",
        "        'reg_lambda': [1.0]\n",
        "    }\n",
        "\n",
        "\n",
        "    grid_search = GridSearchCV(\n",
        "        estimator=model,\n",
        "        param_grid=param_grid,\n",
        "        scoring='r2',\n",
        "        cv=5,\n",
        "        verbose=1,\n",
        "        n_jobs=-1\n",
        "    )\n",
        "\n",
        "    grid_search.fit(X_train, y_train)\n",
        "\n",
        "    best_model = grid_search.best_estimator_\n",
        "\n",
        "    y_pred = best_model.predict(X_test)\n",
        "    mse = mean_squared_error(y_test, y_pred)\n",
        "    r2 = r2_score(y_test, y_pred)\n",
        "\n",
        "    importances = best_model.feature_importances_\n",
        "    feature_names = X_train.columns\n",
        "\n",
        "    print(\"-- XGBoost Scores --\")\n",
        "    print()\n",
        "    print(\"Best Parameters:\", grid_search.best_params_)\n",
        "    print(f\"Test MSE: {mse:.4f}\")\n",
        "    print(f\"Test R²: {r2:.4f}\")\n",
        "\n",
        "    print('- Feature Wise Importance -')\n",
        "    for feature, importance in zip(feature_names, importances):\n",
        "        print(f\"{feature}: {importance:.4f}\")\n",
        "    return best_model"
      ],
      "metadata": {
        "id": "RgDi-yX3b0yE"
      },
      "execution_count": 113,
      "outputs": []
    },
    {
      "cell_type": "markdown",
      "source": [
        "### For Batsmen"
      ],
      "metadata": {
        "id": "8c530RWLpUYP"
      }
    },
    {
      "cell_type": "markdown",
      "source": [
        "Dropping economy because the column was cracked, remember?"
      ],
      "metadata": {
        "id": "lVrVX7EqBj0y"
      }
    },
    {
      "cell_type": "code",
      "source": [
        "df_bat = df_wma[df_wma['player_role'] == 'Batsman']"
      ],
      "metadata": {
        "id": "gU445YWtlzCb"
      },
      "execution_count": 114,
      "outputs": []
    },
    {
      "cell_type": "code",
      "source": [
        "X = df_bat.drop(columns=['fantasy_score_batting','match_type','fantasy_score_bowling','fantasy_score_total','match_id','player_role','balls_faced','dot_balls_as_batsman'])\n",
        "y = df_bat['fantasy_score_total']"
      ],
      "metadata": {
        "id": "Jxufcw_QQ9ld"
      },
      "execution_count": 115,
      "outputs": []
    },
    {
      "cell_type": "code",
      "source": [
        "X.columns"
      ],
      "metadata": {
        "colab": {
          "base_uri": "https://localhost:8080/"
        },
        "id": "7OppRBk6S6D1",
        "outputId": "706ced4e-5314-43c9-efba-56d586dbac7a"
      },
      "execution_count": 117,
      "outputs": [
        {
          "output_type": "execute_result",
          "data": {
            "text/plain": [
              "Index(['player_id', 'start_date', 'gender', 'balls_bowled',\n",
              "       'dot_balls_as_batsman_percentage', 'batting_aggression',\n",
              "       'boundaries_wma', 'fielding_wma', 'dots_wma', 'strike_rate_wma',\n",
              "       'economy_wma', 'runs_scored_wma', 'runs_conceded_wma',\n",
              "       'wickets_taken_wma', 'rolling_fantasy_batting',\n",
              "       'rolling_fantasy_bowling', 'rolling_fantasy_total'],\n",
              "      dtype='object')"
            ]
          },
          "metadata": {},
          "execution_count": 117
        }
      ]
    },
    {
      "cell_type": "code",
      "source": [
        "model_1 = train_random_forest(X.drop('start_date', axis=1),y)"
      ],
      "metadata": {
        "colab": {
          "base_uri": "https://localhost:8080/"
        },
        "id": "_lh_tn6nms_l",
        "outputId": "237cb612-a7c8-418a-dfc0-20cefc155469"
      },
      "execution_count": 122,
      "outputs": [
        {
          "output_type": "stream",
          "name": "stdout",
          "text": [
            "-- Random Forest Evaluation Scores--\n",
            "Mean Squared Error: 547.0038\n",
            "R² Score: 0.6952\n",
            "\n",
            "\n",
            "- Feature Wise Importance -\n",
            "balls_bowled: 0.0508\n",
            "dot_balls_as_batsman_percentage: 0.0870\n",
            "batting_aggression: 0.3072\n",
            "boundaries_wma: 0.0525\n",
            "fielding_wma: 0.0359\n",
            "dots_wma: 0.0081\n",
            "strike_rate_wma: 0.0449\n",
            "economy_wma: 0.0089\n",
            "runs_scored_wma: 0.1787\n",
            "runs_conceded_wma: 0.0077\n",
            "wickets_taken_wma: 0.0103\n",
            "rolling_fantasy_batting: 0.1632\n",
            "rolling_fantasy_bowling: 0.0193\n",
            "rolling_fantasy_total: 0.0256\n"
          ]
        }
      ]
    },
    {
      "cell_type": "code",
      "source": [
        "!pip install category_encoders"
      ],
      "metadata": {
        "colab": {
          "base_uri": "https://localhost:8080/"
        },
        "id": "SwEeBu20XXVZ",
        "outputId": "7530c4e8-106b-4442-86da-fd501a1a1a7a"
      },
      "execution_count": 125,
      "outputs": [
        {
          "output_type": "stream",
          "name": "stdout",
          "text": [
            "Collecting category_encoders\n",
            "  Downloading category_encoders-2.8.1-py3-none-any.whl.metadata (7.9 kB)\n",
            "Requirement already satisfied: numpy>=1.14.0 in /usr/local/lib/python3.11/dist-packages (from category_encoders) (2.0.2)\n",
            "Requirement already satisfied: pandas>=1.0.5 in /usr/local/lib/python3.11/dist-packages (from category_encoders) (2.2.2)\n",
            "Requirement already satisfied: patsy>=0.5.1 in /usr/local/lib/python3.11/dist-packages (from category_encoders) (1.0.1)\n",
            "Requirement already satisfied: scikit-learn>=1.6.0 in /usr/local/lib/python3.11/dist-packages (from category_encoders) (1.6.1)\n",
            "Requirement already satisfied: scipy>=1.0.0 in /usr/local/lib/python3.11/dist-packages (from category_encoders) (1.15.3)\n",
            "Requirement already satisfied: statsmodels>=0.9.0 in /usr/local/lib/python3.11/dist-packages (from category_encoders) (0.14.4)\n",
            "Requirement already satisfied: python-dateutil>=2.8.2 in /usr/local/lib/python3.11/dist-packages (from pandas>=1.0.5->category_encoders) (2.9.0.post0)\n",
            "Requirement already satisfied: pytz>=2020.1 in /usr/local/lib/python3.11/dist-packages (from pandas>=1.0.5->category_encoders) (2025.2)\n",
            "Requirement already satisfied: tzdata>=2022.7 in /usr/local/lib/python3.11/dist-packages (from pandas>=1.0.5->category_encoders) (2025.2)\n",
            "Requirement already satisfied: joblib>=1.2.0 in /usr/local/lib/python3.11/dist-packages (from scikit-learn>=1.6.0->category_encoders) (1.5.1)\n",
            "Requirement already satisfied: threadpoolctl>=3.1.0 in /usr/local/lib/python3.11/dist-packages (from scikit-learn>=1.6.0->category_encoders) (3.6.0)\n",
            "Requirement already satisfied: packaging>=21.3 in /usr/local/lib/python3.11/dist-packages (from statsmodels>=0.9.0->category_encoders) (24.2)\n",
            "Requirement already satisfied: six>=1.5 in /usr/local/lib/python3.11/dist-packages (from python-dateutil>=2.8.2->pandas>=1.0.5->category_encoders) (1.17.0)\n",
            "Downloading category_encoders-2.8.1-py3-none-any.whl (85 kB)\n",
            "\u001b[2K   \u001b[90m━━━━━━━━━━━━━━━━━━━━━━━━━━━━━━━━━━━━━━━━\u001b[0m \u001b[32m85.7/85.7 kB\u001b[0m \u001b[31m7.1 MB/s\u001b[0m eta \u001b[36m0:00:00\u001b[0m\n",
            "\u001b[?25hInstalling collected packages: category_encoders\n",
            "Successfully installed category_encoders-2.8.1\n"
          ]
        }
      ]
    },
    {
      "cell_type": "code",
      "source": [
        "def train_xgboost_with_gridsearch(X, y):\n",
        "    from xgboost import XGBRegressor\n",
        "    from sklearn.model_selection import GridSearchCV, train_test_split, KFold\n",
        "    from sklearn.metrics import mean_squared_error, r2_score\n",
        "    from category_encoders import TargetEncoder\n",
        "    import pandas as pd\n",
        "    import numpy as np\n",
        "\n",
        "    X_train, X_test, y_train, y_test = train_test_split(X.copy(), y.copy(), test_size=0.25, random_state=2)\n",
        "\n",
        "    # Target Encoding with Cross-Validation\n",
        "    categorical_cols = ['player_id', 'gender']\n",
        "    X_train_encoded = X_train.copy()\n",
        "    X_test_encoded = X_test.copy()\n",
        "\n",
        "    for col in categorical_cols:\n",
        "        # Prepare a column to hold the encoded values\n",
        "        X_train_encoded[col + '_enc'] = np.nan\n",
        "\n",
        "        kf = KFold(n_splits=5, shuffle=True, random_state=2)\n",
        "        for train_idx, val_idx in kf.split(X_train):\n",
        "            enc = TargetEncoder()\n",
        "            enc.fit(X_train.iloc[train_idx][col], y_train.iloc[train_idx])\n",
        "            X_train_encoded.iloc[val_idx, X_train_encoded.columns.get_loc(col + '_enc')] = \\\n",
        "                enc.transform(X_train.iloc[val_idx][col])[col]\n",
        "\n",
        "        # Fit final encoder on full training set, apply to test set\n",
        "        final_enc = TargetEncoder()\n",
        "        final_enc.fit(X_train[col], y_train)\n",
        "        X_test_encoded[col + '_enc'] = final_enc.transform(X_test[col])[col]\n",
        "\n",
        "    # Drop original categorical columns\n",
        "    X_train_encoded.drop(columns=categorical_cols, inplace=True)\n",
        "    X_test_encoded.drop(columns=categorical_cols, inplace=True)\n",
        "\n",
        "    # XGBoost and GridSearch\n",
        "    model = XGBRegressor(random_state=2, n_jobs=-1)\n",
        "\n",
        "    param_grid = {\n",
        "        'n_estimators': [50],\n",
        "        'learning_rate': [0.01, 0.05, 0.1],\n",
        "        'max_depth': [2, 4, 8],\n",
        "        'subsample': [0.8, 1.0],\n",
        "        'colsample_bytree': [0.8, 1.0],\n",
        "        'reg_alpha': [0, 0.1],\n",
        "        'reg_lambda': [1.0]\n",
        "    }\n",
        "\n",
        "    grid_search = GridSearchCV(\n",
        "        estimator=model,\n",
        "        param_grid=param_grid,\n",
        "        scoring='r2',\n",
        "        cv=5,\n",
        "        verbose=1,\n",
        "        n_jobs=-1\n",
        "    )\n",
        "\n",
        "    grid_search.fit(X_train_encoded, y_train)\n",
        "\n",
        "    best_model = grid_search.best_estimator_\n",
        "\n",
        "    y_pred = best_model.predict(X_test_encoded)\n",
        "    mse = mean_squared_error(y_test, y_pred)\n",
        "    r2 = r2_score(y_test, y_pred)\n",
        "\n",
        "    importances = best_model.feature_importances_\n",
        "    feature_names = X_train_encoded.columns\n",
        "\n",
        "    print(\"-- XGBoost Scores --\\n\")\n",
        "    print(\"Best Parameters:\", grid_search.best_params_)\n",
        "    print(f\"Test MSE: {mse:.4f}\")\n",
        "    print(f\"Test R²: {r2:.4f}\")\n",
        "\n",
        "    print('- Feature Wise Importance -')\n",
        "    for feature, importance in zip(feature_names, importances):\n",
        "        print(f\"{feature}: {importance:.4f}\")\n",
        "\n",
        "    return best_model"
      ],
      "metadata": {
        "id": "N8Tru1V89xhO"
      },
      "execution_count": 126,
      "outputs": []
    },
    {
      "cell_type": "code",
      "source": [
        "model_2 = train_xgboost_with_gridsearch(X.drop('start_date', axis=1),y)"
      ],
      "metadata": {
        "colab": {
          "base_uri": "https://localhost:8080/"
        },
        "id": "bmMNXRE1UkyU",
        "outputId": "20d3cac1-5dc3-4fe7-86cc-aa5f74dc5f9f"
      },
      "execution_count": 127,
      "outputs": [
        {
          "output_type": "stream",
          "name": "stdout",
          "text": [
            "Fitting 5 folds for each of 72 candidates, totalling 360 fits\n",
            "-- XGBoost Scores --\n",
            "\n",
            "Best Parameters: {'colsample_bytree': 1.0, 'learning_rate': 0.1, 'max_depth': 8, 'n_estimators': 50, 'reg_alpha': 0.1, 'reg_lambda': 1.0, 'subsample': 0.8}\n",
            "Test MSE: 601.5306\n",
            "Test R²: 0.6684\n",
            "- Feature Wise Importance -\n",
            "balls_bowled: 0.0805\n",
            "dot_balls_as_batsman_percentage: 0.0462\n",
            "batting_aggression: 0.3262\n",
            "boundaries_wma: 0.0360\n",
            "fielding_wma: 0.0202\n",
            "dots_wma: 0.0069\n",
            "strike_rate_wma: 0.0188\n",
            "economy_wma: 0.0088\n",
            "runs_scored_wma: 0.1338\n",
            "runs_conceded_wma: 0.0123\n",
            "wickets_taken_wma: 0.0195\n",
            "rolling_fantasy_batting: 0.1649\n",
            "rolling_fantasy_bowling: 0.0198\n",
            "rolling_fantasy_total: 0.0148\n",
            "player_id_enc: 0.0825\n",
            "gender_enc: 0.0088\n"
          ]
        }
      ]
    },
    {
      "cell_type": "markdown",
      "source": [
        "### For Batsmen and T20"
      ],
      "metadata": {
        "id": "j3UT3ky1pakj"
      }
    },
    {
      "cell_type": "code",
      "source": [
        "df_bat_T20 = df_bat[df_bat['match_type'] == 'T20']\n",
        "X = df_bat_T20.drop(columns=['fantasy_score_batting','match_type','fantasy_score_bowling','fantasy_score_total','match_id','player_role','balls_faced','dot_balls_as_batsman'])\n",
        "y = df_bat_T20['fantasy_score_total']"
      ],
      "metadata": {
        "id": "GzLkIZKnpZBV"
      },
      "execution_count": 128,
      "outputs": []
    },
    {
      "cell_type": "code",
      "source": [
        "model_3 = train_random_forest(X.drop('start_date', axis=1),y)"
      ],
      "metadata": {
        "colab": {
          "base_uri": "https://localhost:8080/"
        },
        "id": "eWe4Z6ilqdiO",
        "outputId": "1c710c3c-8915-438b-8367-248f1b1f5a97"
      },
      "execution_count": 129,
      "outputs": [
        {
          "output_type": "stream",
          "name": "stdout",
          "text": [
            "-- Random Forest Evaluation Scores--\n",
            "Mean Squared Error: 258.1137\n",
            "R² Score: 0.7324\n",
            "\n",
            "\n",
            "- Feature Wise Importance -\n",
            "balls_bowled: 0.0668\n",
            "dot_balls_as_batsman_percentage: 0.2041\n",
            "batting_aggression: 0.4345\n",
            "boundaries_wma: 0.0447\n",
            "fielding_wma: 0.0292\n",
            "dots_wma: 0.0084\n",
            "strike_rate_wma: 0.0318\n",
            "economy_wma: 0.0102\n",
            "runs_scored_wma: 0.0502\n",
            "runs_conceded_wma: 0.0094\n",
            "wickets_taken_wma: 0.0173\n",
            "rolling_fantasy_batting: 0.0471\n",
            "rolling_fantasy_bowling: 0.0235\n",
            "rolling_fantasy_total: 0.0228\n"
          ]
        }
      ]
    },
    {
      "cell_type": "code",
      "source": [
        "model_4 = train_xgboost_with_gridsearch(X.drop('start_date', axis=1),y)"
      ],
      "metadata": {
        "colab": {
          "base_uri": "https://localhost:8080/"
        },
        "id": "K2agLpD6-HVz",
        "outputId": "946d452a-4a48-42c6-bb40-0ca9d6e5c0a3"
      },
      "execution_count": 130,
      "outputs": [
        {
          "output_type": "stream",
          "name": "stdout",
          "text": [
            "Fitting 5 folds for each of 72 candidates, totalling 360 fits\n",
            "-- XGBoost Scores --\n",
            "\n",
            "Best Parameters: {'colsample_bytree': 0.8, 'learning_rate': 0.1, 'max_depth': 8, 'n_estimators': 50, 'reg_alpha': 0.1, 'reg_lambda': 1.0, 'subsample': 0.8}\n",
            "Test MSE: 289.9258\n",
            "Test R²: 0.7087\n",
            "- Feature Wise Importance -\n",
            "balls_bowled: 0.1006\n",
            "dot_balls_as_batsman_percentage: 0.2255\n",
            "batting_aggression: 0.3274\n",
            "boundaries_wma: 0.0323\n",
            "fielding_wma: 0.0178\n",
            "dots_wma: 0.0099\n",
            "strike_rate_wma: 0.0122\n",
            "economy_wma: 0.0105\n",
            "runs_scored_wma: 0.0487\n",
            "runs_conceded_wma: 0.0142\n",
            "wickets_taken_wma: 0.0428\n",
            "rolling_fantasy_batting: 0.0551\n",
            "rolling_fantasy_bowling: 0.0252\n",
            "rolling_fantasy_total: 0.0178\n",
            "player_id_enc: 0.0515\n",
            "gender_enc: 0.0087\n"
          ]
        }
      ]
    },
    {
      "cell_type": "markdown",
      "source": [
        "### For Bowler and T20"
      ],
      "metadata": {
        "id": "bZbkM45NqxU3"
      }
    },
    {
      "cell_type": "code",
      "source": [
        "df_bowl = df_wma[df_wma['player_role'] == 'Bowler']\n",
        "df_bowl_T20 = df_bowl[df_bowl['match_type'] == 'T20']\n",
        "X = df_bowl_T20.drop(columns=['fantasy_score_batting','match_type','fantasy_score_bowling','fantasy_score_total','match_id','player_role','balls_faced','dot_balls_as_batsman'])\n",
        "y = df_bowl_T20['fantasy_score_total']"
      ],
      "metadata": {
        "id": "r4PxWRTNq_dx"
      },
      "execution_count": 131,
      "outputs": []
    },
    {
      "cell_type": "code",
      "source": [
        "model_5 = train_random_forest(X.drop('start_date', axis=1),y)"
      ],
      "metadata": {
        "colab": {
          "base_uri": "https://localhost:8080/"
        },
        "id": "kxMoqX7crTcp",
        "outputId": "36d0e110-809c-4640-bb62-aa11e9673f81"
      },
      "execution_count": 132,
      "outputs": [
        {
          "output_type": "stream",
          "name": "stdout",
          "text": [
            "-- Random Forest Evaluation Scores--\n",
            "Mean Squared Error: 614.5131\n",
            "R² Score: 0.4950\n",
            "\n",
            "\n",
            "- Feature Wise Importance -\n",
            "balls_bowled: 0.1605\n",
            "dot_balls_as_batsman_percentage: 0.0531\n",
            "batting_aggression: 0.1205\n",
            "boundaries_wma: 0.0333\n",
            "fielding_wma: 0.0422\n",
            "dots_wma: 0.0499\n",
            "strike_rate_wma: 0.0388\n",
            "economy_wma: 0.0517\n",
            "runs_scored_wma: 0.0418\n",
            "runs_conceded_wma: 0.0635\n",
            "wickets_taken_wma: 0.1946\n",
            "rolling_fantasy_batting: 0.0371\n",
            "rolling_fantasy_bowling: 0.0747\n",
            "rolling_fantasy_total: 0.0383\n"
          ]
        }
      ]
    },
    {
      "cell_type": "code",
      "source": [
        "model_6 = train_xgboost_with_gridsearch(X.drop('start_date', axis=1),y)"
      ],
      "metadata": {
        "colab": {
          "base_uri": "https://localhost:8080/"
        },
        "id": "nGpqTcAm-Kuc",
        "outputId": "0e060427-8ea6-47f7-8cb5-eb6531492c8f"
      },
      "execution_count": 133,
      "outputs": [
        {
          "output_type": "stream",
          "name": "stdout",
          "text": [
            "Fitting 5 folds for each of 72 candidates, totalling 360 fits\n",
            "-- XGBoost Scores --\n",
            "\n",
            "Best Parameters: {'colsample_bytree': 1.0, 'learning_rate': 0.1, 'max_depth': 8, 'n_estimators': 50, 'reg_alpha': 0.1, 'reg_lambda': 1.0, 'subsample': 0.8}\n",
            "Test MSE: 649.9006\n",
            "Test R²: 0.4623\n",
            "- Feature Wise Importance -\n",
            "balls_bowled: 0.2096\n",
            "dot_balls_as_batsman_percentage: 0.0462\n",
            "batting_aggression: 0.2655\n",
            "boundaries_wma: 0.0409\n",
            "fielding_wma: 0.0310\n",
            "dots_wma: 0.0209\n",
            "strike_rate_wma: 0.0150\n",
            "economy_wma: 0.0196\n",
            "runs_scored_wma: 0.0445\n",
            "runs_conceded_wma: 0.0366\n",
            "wickets_taken_wma: 0.0881\n",
            "rolling_fantasy_batting: 0.0396\n",
            "rolling_fantasy_bowling: 0.0691\n",
            "rolling_fantasy_total: 0.0241\n",
            "player_id_enc: 0.0305\n",
            "gender_enc: 0.0188\n"
          ]
        }
      ]
    },
    {
      "cell_type": "markdown",
      "source": [
        "Interestingly... My model is performing better when I do **NOT** use MA in columns, random forest performs better. (R^2 = 0.990)."
      ],
      "metadata": {
        "id": "dwo7ZYAwkMKr"
      }
    },
    {
      "cell_type": "code",
      "source": [
        "print(X.dtypes[X.dtypes == 'object'])"
      ],
      "metadata": {
        "id": "Lh1vG6nqeeoX",
        "outputId": "a373cc87-3e35-4ae7-b1b5-74b5767c0988",
        "colab": {
          "base_uri": "https://localhost:8080/"
        }
      },
      "execution_count": 135,
      "outputs": [
        {
          "output_type": "stream",
          "name": "stdout",
          "text": [
            "player_id    object\n",
            "gender       object\n",
            "dtype: object\n"
          ]
        }
      ]
    },
    {
      "cell_type": "code",
      "source": [
        "from sklearn.decomposition import PCA\n",
        "from sklearn.preprocessing import StandardScaler\n",
        "import matplotlib.pyplot as plt\n",
        "\n",
        "wma_cols = [col for col in X.columns if '_wma' in col]\n",
        "for col in wma_cols:\n",
        "    X[col] = X.groupby('player_id')[col].fillna(method='ffill').fillna(method='bfill')\n",
        "X_numeric = X.drop(['start_date', 'player_id','gender'], axis=1)\n",
        "X_numeric = X_numeric.dropna()\n",
        "X_numeric_scaled = StandardScaler().fit_transform(X_numeric)\n",
        "pca = PCA(n_components=0.95)  # Retain 95% variance\n",
        "X_pca = pca.fit_transform(X_numeric_scaled)\n",
        "print(\"Total number of components:\", X.columns.shape)\n",
        "print(\"Number of components selected:\", pca.n_components_)\n",
        "\n",
        "# Plot explained variance\n",
        "plt.figure(figsize=(8, 4))\n",
        "plt.plot(np.cumsum(pca.explained_variance_ratio_), marker='o')\n",
        "plt.xlabel('Number of Components')\n",
        "plt.ylabel('Cumulative Explained Variance')\n",
        "plt.title('PCA - Explained Variance')\n",
        "plt.grid(True)\n",
        "plt.show()"
      ],
      "metadata": {
        "colab": {
          "base_uri": "https://localhost:8080/",
          "height": 444
        },
        "id": "PQdPsspZCSj9",
        "outputId": "1608a2ea-97ae-49f5-8f9a-9ea1c9c6dd60"
      },
      "execution_count": 141,
      "outputs": [
        {
          "output_type": "stream",
          "name": "stdout",
          "text": [
            "Total number of components: (17,)\n",
            "Number of components selected: 8\n"
          ]
        },
        {
          "output_type": "display_data",
          "data": {
            "text/plain": [
              "<Figure size 800x400 with 1 Axes>"
            ],
            "image/png": "[encoded data removed]"
          },
          "metadata": {}
        }
      ]
    },
    {
      "cell_type": "code",
      "source": [
        "from sklearn.feature_selection import RFE\n",
        "from xgboost import XGBRegressor\n",
        "from sklearn.metrics import mean_squared_error, r2_score\n",
        "from sklearn.model_selection import train_test_split\n",
        "\n",
        "X_train, X_test, y_train, y_test = train_test_split(X, y, test_size=0.25, random_state=2)\n",
        "\n",
        "# Model\n",
        "model = XGBRegressor(n_estimators=100, random_state=42, colsample_bytree=0.8, learning_rate= 0.1,\n",
        "                     max_depth= 8, reg_alpha= 0.1, reg_lambda= 1.0, subsample =1.0)\n",
        "\n",
        "# Recursive Feature Elimination\n",
        "\n",
        "# Drop 'start_date' before fitting RFE\n",
        "X_rfe = X.drop(['start_date','player_id','gender'], axis=1)\n",
        "rfe = RFE(estimator=model, n_features_to_select=10)\n",
        "rfe.fit(X_rfe, y)\n",
        "\n",
        "# Now, use the selected features for the model training and prediction\n",
        "# Ensure X_train and X_test also only contain the selected features\n",
        "X_train_selected = X_train[X_rfe.columns[rfe.support_]]\n",
        "X_test_selected = X_test[X_rfe.columns[rfe.support_]]\n",
        "\n",
        "\n",
        "model.fit(X_train_selected, y_train)\n",
        "y_pred = model.predict(X_test_selected)\n",
        "mse = mean_squared_error(y_test, y_pred)\n",
        "r2 = r2_score(y_test, y_pred)\n",
        "\n",
        "importances = model.feature_importances_\n",
        "feature_names = X_train_selected.columns\n",
        "\n",
        "print(\"-- XGBoost with RFE Scores --\")\n",
        "print()\n",
        "print(f\"Test R²: {r2:.4f}\")\n",
        "print(f\"Test MSE: {mse:.4f}\")\n",
        "\n",
        "print('- Feature Wise Importance -')\n",
        "for feature, importance in zip(feature_names, importances):\n",
        "  print(f\"{feature}: {importance:.4f}\")\n",
        "\n",
        "# Show top features\n",
        "# Use the columns from X_rfe for indexing\n",
        "selected_features = X_rfe.columns[rfe.support_]\n",
        "print(\"\\n\\nTop 10 selected features by RFE:\")\n",
        "print(selected_features)"
      ],
      "metadata": {
        "colab": {
          "base_uri": "https://localhost:8080/"
        },
        "id": "-CDwVS4JDBWw",
        "outputId": "8c649de7-4494-41cc-d720-b5b8c88e6a39"
      },
      "execution_count": 143,
      "outputs": [
        {
          "output_type": "stream",
          "name": "stdout",
          "text": [
            "-- XGBoost with RFE Scores --\n",
            "\n",
            "Test R²: 0.5118\n",
            "Test MSE: 589.9860\n",
            "- Feature Wise Importance -\n",
            "balls_bowled: 0.2151\n",
            "dot_balls_as_batsman_percentage: 0.0677\n",
            "batting_aggression: 0.2211\n",
            "boundaries_wma: 0.0464\n",
            "fielding_wma: 0.0466\n",
            "runs_conceded_wma: 0.0416\n",
            "wickets_taken_wma: 0.1794\n",
            "rolling_fantasy_batting: 0.0435\n",
            "rolling_fantasy_bowling: 0.0991\n",
            "rolling_fantasy_total: 0.0395\n",
            "\n",
            "\n",
            "Top 10 selected features by RFE:\n",
            "Index(['balls_bowled', 'dot_balls_as_batsman_percentage', 'batting_aggression',\n",
            "       'boundaries_wma', 'fielding_wma', 'runs_conceded_wma',\n",
            "       'wickets_taken_wma', 'rolling_fantasy_batting',\n",
            "       'rolling_fantasy_bowling', 'rolling_fantasy_total'],\n",
            "      dtype='object')\n"
          ]
        }
      ]
    },
    {
      "cell_type": "code",
      "source": [
        "!pip install shap"
      ],
      "metadata": {
        "id": "lMXCp-GJgS71"
      },
      "execution_count": null,
      "outputs": []
    },
    {
      "cell_type": "code",
      "source": [
        "import shap\n",
        "explainer = shap.Explainer(model, X_test_selected)\n",
        "shap_values = explainer(X_test_selected)\n",
        "shap.summary_plot(shap_values, X_test_selected)\n"
      ],
      "metadata": {
        "colab": {
          "base_uri": "https://localhost:8080/",
          "height": 880
        },
        "id": "2mTJsTQNEK0R",
        "outputId": "b47cdde6-4621-4b04-f4d6-80efe8d4558b"
      },
      "execution_count": 144,
      "outputs": [
        {
          "output_type": "stream",
          "name": "stdout",
          "text": [
            "Requirement already satisfied: shap in /usr/local/lib/python3.11/dist-packages (0.48.0)\n",
            "Requirement already satisfied: numpy in /usr/local/lib/python3.11/dist-packages (from shap) (2.0.2)\n",
            "Requirement already satisfied: scipy in /usr/local/lib/python3.11/dist-packages (from shap) (1.15.3)\n",
            "Requirement already satisfied: scikit-learn in /usr/local/lib/python3.11/dist-packages (from shap) (1.6.1)\n",
            "Requirement already satisfied: pandas in /usr/local/lib/python3.11/dist-packages (from shap) (2.2.2)\n",
            "Requirement already satisfied: tqdm>=4.27.0 in /usr/local/lib/python3.11/dist-packages (from shap) (4.67.1)\n",
            "Requirement already satisfied: packaging>20.9 in /usr/local/lib/python3.11/dist-packages (from shap) (24.2)\n",
            "Requirement already satisfied: slicer==0.0.8 in /usr/local/lib/python3.11/dist-packages (from shap) (0.0.8)\n",
            "Requirement already satisfied: numba>=0.54 in /usr/local/lib/python3.11/dist-packages (from shap) (0.60.0)\n",
            "Requirement already satisfied: cloudpickle in /usr/local/lib/python3.11/dist-packages (from shap) (3.1.1)\n",
            "Requirement already satisfied: typing-extensions in /usr/local/lib/python3.11/dist-packages (from shap) (4.14.0)\n",
            "Requirement already satisfied: llvmlite<0.44,>=0.43.0dev0 in /usr/local/lib/python3.11/dist-packages (from numba>=0.54->shap) (0.43.0)\n",
            "Requirement already satisfied: python-dateutil>=2.8.2 in /usr/local/lib/python3.11/dist-packages (from pandas->shap) (2.9.0.post0)\n",
            "Requirement already satisfied: pytz>=2020.1 in /usr/local/lib/python3.11/dist-packages (from pandas->shap) (2025.2)\n",
            "Requirement already satisfied: tzdata>=2022.7 in /usr/local/lib/python3.11/dist-packages (from pandas->shap) (2025.2)\n",
            "Requirement already satisfied: joblib>=1.2.0 in /usr/local/lib/python3.11/dist-packages (from scikit-learn->shap) (1.5.1)\n",
            "Requirement already satisfied: threadpoolctl>=3.1.0 in /usr/local/lib/python3.11/dist-packages (from scikit-learn->shap) (3.6.0)\n",
            "Requirement already satisfied: six>=1.5 in /usr/local/lib/python3.11/dist-packages (from python-dateutil>=2.8.2->pandas->shap) (1.17.0)\n"
          ]
        },
        {
          "output_type": "stream",
          "name": "stderr",
          "text": [
            "100%|===================| 31351/31442 [05:17<00:00]       "
          ]
        },
        {
          "output_type": "display_data",
          "data": {
            "text/plain": [
              "<Figure size 800x550 with 2 Axes>"
            ],
            "image/png": "[encoded data removed]"
          },
          "metadata": {}
        }
      ]
    },
    {
      "cell_type": "markdown",
      "source": [
        "## Going to stick with Batsmen - T20 **"
      ],
      "metadata": {
        "id": "8X2tunpGErdr"
      }
    },
    {
      "cell_type": "code",
      "source": [
        "df_bat = df_wma[df_wma['player_role'] == 'Batsman']\n",
        "X = df_bat.drop(columns=['start_date', 'fantasy_score_batting','match_type',\n",
        "                         'fantasy_score_bowling','fantasy_score_total','match_id','player_role','balls_faced','dot_balls_as_batsman'])\n",
        "y = df_bat.fantasy_score_total"
      ],
      "metadata": {
        "colab": {
          "base_uri": "https://localhost:8080/",
          "height": 333
        },
        "id": "TRCFS2tYEzV7",
        "outputId": "9947b35c-8cf8-4b2c-a9d8-a69d8ebc2400"
      },
      "execution_count": 64,
      "outputs": [
        {
          "output_type": "error",
          "ename": "KeyError",
          "evalue": "\"['economy'] not found in axis\"",
          "traceback": [
            "\u001b[0;31m---------------------------------------------------------------------------\u001b[0m",
            "\u001b[0;31mKeyError\u001b[0m                                  Traceback (most recent call last)",
            "\u001b[0;32m/tmp/ipython-input-64-1173383768.py\u001b[0m in \u001b[0;36m<cell line: 0>\u001b[0;34m()\u001b[0m\n\u001b[1;32m      1\u001b[0m \u001b[0mdf_bat\u001b[0m \u001b[0;34m=\u001b[0m \u001b[0mdf_wma\u001b[0m\u001b[0;34m[\u001b[0m\u001b[0mdf_wma\u001b[0m\u001b[0;34m[\u001b[0m\u001b[0;34m'player_role'\u001b[0m\u001b[0;34m]\u001b[0m \u001b[0;34m==\u001b[0m \u001b[0;34m'Batsman'\u001b[0m\u001b[0;34m]\u001b[0m\u001b[0;34m\u001b[0m\u001b[0;34m\u001b[0m\u001b[0m\n\u001b[0;32m----> 2\u001b[0;31m X = df_bat.drop(columns=['start_date','economy', 'fantasy_score_batting','match_type',\n\u001b[0m\u001b[1;32m      3\u001b[0m                          'fantasy_score_bowling','fantasy_score_total','match_id','player_role','balls_faced','dot_balls_as_batsman'])\n\u001b[1;32m      4\u001b[0m \u001b[0my\u001b[0m \u001b[0;34m=\u001b[0m \u001b[0mdf_bat\u001b[0m\u001b[0;34m.\u001b[0m\u001b[0mfantasy_score_total\u001b[0m\u001b[0;34m\u001b[0m\u001b[0;34m\u001b[0m\u001b[0m\n",
            "\u001b[0;32m/usr/local/lib/python3.11/dist-packages/pandas/core/frame.py\u001b[0m in \u001b[0;36mdrop\u001b[0;34m(self, labels, axis, index, columns, level, inplace, errors)\u001b[0m\n\u001b[1;32m   5579\u001b[0m                 \u001b[0mweight\u001b[0m  \u001b[0;36m1.0\u001b[0m     \u001b[0;36m0.8\u001b[0m\u001b[0;34m\u001b[0m\u001b[0;34m\u001b[0m\u001b[0m\n\u001b[1;32m   5580\u001b[0m         \"\"\"\n\u001b[0;32m-> 5581\u001b[0;31m         return super().drop(\n\u001b[0m\u001b[1;32m   5582\u001b[0m             \u001b[0mlabels\u001b[0m\u001b[0;34m=\u001b[0m\u001b[0mlabels\u001b[0m\u001b[0;34m,\u001b[0m\u001b[0;34m\u001b[0m\u001b[0;34m\u001b[0m\u001b[0m\n\u001b[1;32m   5583\u001b[0m             \u001b[0maxis\u001b[0m\u001b[0;34m=\u001b[0m\u001b[0maxis\u001b[0m\u001b[0;34m,\u001b[0m\u001b[0;34m\u001b[0m\u001b[0;34m\u001b[0m\u001b[0m\n",
            "\u001b[0;32m/usr/local/lib/python3.11/dist-packages/pandas/core/generic.py\u001b[0m in \u001b[0;36mdrop\u001b[0;34m(self, labels, axis, index, columns, level, inplace, errors)\u001b[0m\n\u001b[1;32m   4786\u001b[0m         \u001b[0;32mfor\u001b[0m \u001b[0maxis\u001b[0m\u001b[0;34m,\u001b[0m \u001b[0mlabels\u001b[0m \u001b[0;32min\u001b[0m \u001b[0maxes\u001b[0m\u001b[0;34m.\u001b[0m\u001b[0mitems\u001b[0m\u001b[0;34m(\u001b[0m\u001b[0;34m)\u001b[0m\u001b[0;34m:\u001b[0m\u001b[0;34m\u001b[0m\u001b[0;34m\u001b[0m\u001b[0m\n\u001b[1;32m   4787\u001b[0m             \u001b[0;32mif\u001b[0m \u001b[0mlabels\u001b[0m \u001b[0;32mis\u001b[0m \u001b[0;32mnot\u001b[0m \u001b[0;32mNone\u001b[0m\u001b[0;34m:\u001b[0m\u001b[0;34m\u001b[0m\u001b[0;34m\u001b[0m\u001b[0m\n\u001b[0;32m-> 4788\u001b[0;31m                 \u001b[0mobj\u001b[0m \u001b[0;34m=\u001b[0m \u001b[0mobj\u001b[0m\u001b[0;34m.\u001b[0m\u001b[0m_drop_axis\u001b[0m\u001b[0;34m(\u001b[0m\u001b[0mlabels\u001b[0m\u001b[0;34m,\u001b[0m \u001b[0maxis\u001b[0m\u001b[0;34m,\u001b[0m \u001b[0mlevel\u001b[0m\u001b[0;34m=\u001b[0m\u001b[0mlevel\u001b[0m\u001b[0;34m,\u001b[0m \u001b[0merrors\u001b[0m\u001b[0;34m=\u001b[0m\u001b[0merrors\u001b[0m\u001b[0;34m)\u001b[0m\u001b[0;34m\u001b[0m\u001b[0;34m\u001b[0m\u001b[0m\n\u001b[0m\u001b[1;32m   4789\u001b[0m \u001b[0;34m\u001b[0m\u001b[0m\n\u001b[1;32m   4790\u001b[0m         \u001b[0;32mif\u001b[0m \u001b[0minplace\u001b[0m\u001b[0;34m:\u001b[0m\u001b[0;34m\u001b[0m\u001b[0;34m\u001b[0m\u001b[0m\n",
            "\u001b[0;32m/usr/local/lib/python3.11/dist-packages/pandas/core/generic.py\u001b[0m in \u001b[0;36m_drop_axis\u001b[0;34m(self, labels, axis, level, errors, only_slice)\u001b[0m\n\u001b[1;32m   4828\u001b[0m                 \u001b[0mnew_axis\u001b[0m \u001b[0;34m=\u001b[0m \u001b[0maxis\u001b[0m\u001b[0;34m.\u001b[0m\u001b[0mdrop\u001b[0m\u001b[0;34m(\u001b[0m\u001b[0mlabels\u001b[0m\u001b[0;34m,\u001b[0m \u001b[0mlevel\u001b[0m\u001b[0;34m=\u001b[0m\u001b[0mlevel\u001b[0m\u001b[0;34m,\u001b[0m \u001b[0merrors\u001b[0m\u001b[0;34m=\u001b[0m\u001b[0merrors\u001b[0m\u001b[0;34m)\u001b[0m\u001b[0;34m\u001b[0m\u001b[0;34m\u001b[0m\u001b[0m\n\u001b[1;32m   4829\u001b[0m             \u001b[0;32melse\u001b[0m\u001b[0;34m:\u001b[0m\u001b[0;34m\u001b[0m\u001b[0;34m\u001b[0m\u001b[0m\n\u001b[0;32m-> 4830\u001b[0;31m                 \u001b[0mnew_axis\u001b[0m \u001b[0;34m=\u001b[0m \u001b[0maxis\u001b[0m\u001b[0;34m.\u001b[0m\u001b[0mdrop\u001b[0m\u001b[0;34m(\u001b[0m\u001b[0mlabels\u001b[0m\u001b[0;34m,\u001b[0m \u001b[0merrors\u001b[0m\u001b[0;34m=\u001b[0m\u001b[0merrors\u001b[0m\u001b[0;34m)\u001b[0m\u001b[0;34m\u001b[0m\u001b[0;34m\u001b[0m\u001b[0m\n\u001b[0m\u001b[1;32m   4831\u001b[0m             \u001b[0mindexer\u001b[0m \u001b[0;34m=\u001b[0m \u001b[0maxis\u001b[0m\u001b[0;34m.\u001b[0m\u001b[0mget_indexer\u001b[0m\u001b[0;34m(\u001b[0m\u001b[0mnew_axis\u001b[0m\u001b[0;34m)\u001b[0m\u001b[0;34m\u001b[0m\u001b[0;34m\u001b[0m\u001b[0m\n\u001b[1;32m   4832\u001b[0m \u001b[0;34m\u001b[0m\u001b[0m\n",
            "\u001b[0;32m/usr/local/lib/python3.11/dist-packages/pandas/core/indexes/base.py\u001b[0m in \u001b[0;36mdrop\u001b[0;34m(self, labels, errors)\u001b[0m\n\u001b[1;32m   7068\u001b[0m         \u001b[0;32mif\u001b[0m \u001b[0mmask\u001b[0m\u001b[0;34m.\u001b[0m\u001b[0many\u001b[0m\u001b[0;34m(\u001b[0m\u001b[0;34m)\u001b[0m\u001b[0;34m:\u001b[0m\u001b[0;34m\u001b[0m\u001b[0;34m\u001b[0m\u001b[0m\n\u001b[1;32m   7069\u001b[0m             \u001b[0;32mif\u001b[0m \u001b[0merrors\u001b[0m \u001b[0;34m!=\u001b[0m \u001b[0;34m\"ignore\"\u001b[0m\u001b[0;34m:\u001b[0m\u001b[0;34m\u001b[0m\u001b[0;34m\u001b[0m\u001b[0m\n\u001b[0;32m-> 7070\u001b[0;31m                 \u001b[0;32mraise\u001b[0m \u001b[0mKeyError\u001b[0m\u001b[0;34m(\u001b[0m\u001b[0;34mf\"{labels[mask].tolist()} not found in axis\"\u001b[0m\u001b[0;34m)\u001b[0m\u001b[0;34m\u001b[0m\u001b[0;34m\u001b[0m\u001b[0m\n\u001b[0m\u001b[1;32m   7071\u001b[0m             \u001b[0mindexer\u001b[0m \u001b[0;34m=\u001b[0m \u001b[0mindexer\u001b[0m\u001b[0;34m[\u001b[0m\u001b[0;34m~\u001b[0m\u001b[0mmask\u001b[0m\u001b[0;34m]\u001b[0m\u001b[0;34m\u001b[0m\u001b[0;34m\u001b[0m\u001b[0m\n\u001b[1;32m   7072\u001b[0m         \u001b[0;32mreturn\u001b[0m \u001b[0mself\u001b[0m\u001b[0;34m.\u001b[0m\u001b[0mdelete\u001b[0m\u001b[0;34m(\u001b[0m\u001b[0mindexer\u001b[0m\u001b[0;34m)\u001b[0m\u001b[0;34m\u001b[0m\u001b[0;34m\u001b[0m\u001b[0m\n",
            "\u001b[0;31mKeyError\u001b[0m: \"['economy'] not found in axis\""
          ]
        }
      ]
    },
    {
      "cell_type": "code",
      "source": [],
      "metadata": {
        "id": "ZcL875miPnQ7"
      },
      "execution_count": null,
      "outputs": []
    }
  ]
}